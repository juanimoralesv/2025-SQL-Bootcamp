{
 "cells": [
  {
   "cell_type": "markdown",
   "id": "b83c29de",
   "metadata": {},
   "source": [
    "# S2 - SQL Statement Fundamentals"
   ]
  },
  {
   "cell_type": "code",
   "execution_count": 1,
   "id": "ce8acdc7",
   "metadata": {},
   "outputs": [],
   "source": [
    "# Bibliotecas\n",
    "import os\n",
    "import sqlite3 as sql\n",
    "import pandas as pd"
   ]
  },
  {
   "cell_type": "code",
   "execution_count": 2,
   "id": "4e2311bd",
   "metadata": {},
   "outputs": [],
   "source": [
    "# Limit removal for showing pandas.DataFrames' columns\n",
    "pd.set_option('display.max_columns', None)\n",
    "# Limit removal for showing pandas.DataFrames' rows\n",
    "pd.set_option('display.max_rows', None)\n",
    "# Modification of console with for displaying\n",
    "pd.set_option('display.width', 8000)"
   ]
  },
  {
   "cell_type": "code",
   "execution_count": 3,
   "id": "7d425f7f",
   "metadata": {},
   "outputs": [],
   "source": [
    "# Conexión y cursor\n",
    "conn = sql.connect('dvdrental.db')\n",
    "cur = conn.cursor()"
   ]
  },
  {
   "cell_type": "code",
   "execution_count": 4,
   "id": "485c5fd6",
   "metadata": {},
   "outputs": [],
   "source": [
    "# Ruta de archivos CSV\n",
    "csv_folder = r'G:\\15_Estudio\\07 - Udemy\\SQL - Portilla Complete Bootcamp'"
   ]
  },
  {
   "cell_type": "code",
   "execution_count": 5,
   "id": "a4214061",
   "metadata": {},
   "outputs": [
    {
     "name": "stdout",
     "output_type": "stream",
     "text": [
      "Archivo actor.csv importado correctamente.\n",
      "Archivo address.csv importado correctamente.\n",
      "Archivo category.csv importado correctamente.\n",
      "Archivo city.csv importado correctamente.\n",
      "Archivo country.csv importado correctamente.\n",
      "Archivo customer.csv importado correctamente.\n",
      "Archivo film.csv importado correctamente.\n",
      "Archivo film_actor.csv importado correctamente.\n",
      "Archivo film_category.csv importado correctamente.\n",
      "Archivo inventory.csv importado correctamente.\n",
      "Archivo language.csv importado correctamente.\n",
      "Archivo payment.csv importado correctamente.\n",
      "Archivo rental.csv importado correctamente.\n",
      "Archivo staff.csv importado correctamente.\n",
      "Archivo store.csv importado correctamente.\n"
     ]
    }
   ],
   "source": [
    "# Iteración sobre archivos CSV y cargar en SQLite\n",
    "for csv_file in os.listdir(csv_folder):\n",
    "    if csv_file.endswith('.csv'):\n",
    "        table_name = csv_file[:-4]  # Nombre de tabla\n",
    "        \n",
    "        # CSV a DataFrame\n",
    "        try:\n",
    "            # Caso \"film.csv\", tabulación\n",
    "            if csv_file == 'film.csv':\n",
    "                df = pd.read_csv(\n",
    "                    os.path.join(csv_folder, csv_file),\n",
    "                    delimiter = '\\t'\n",
    "                )\n",
    "            else:\n",
    "                df = pd.read_csv(\n",
    "                    os.path.join(csv_folder, csv_file)\n",
    "                )\n",
    "            \n",
    "            # Importar DataFrame a SQLite\n",
    "            df.to_sql(\n",
    "                table_name,\n",
    "                conn,\n",
    "                if_exists = 'replace',\n",
    "                index = False\n",
    "            )\n",
    "            print(f\"Archivo {csv_file} importado correctamente.\")\n",
    "        except Exception as e:\n",
    "            print(f\"Error al procesar {csv_file}: {e}\")"
   ]
  },
  {
   "cell_type": "code",
   "execution_count": 6,
   "id": "495d201e",
   "metadata": {},
   "outputs": [
    {
     "name": "stdout",
     "output_type": "stream",
     "text": [
      "Tablas en la base de datos:\n",
      "- actor\n",
      "- address\n",
      "- category\n",
      "- city\n",
      "- country\n",
      "- customer\n",
      "- film\n",
      "- film_actor\n",
      "- film_category\n",
      "- inventory\n",
      "- language\n",
      "- payment\n",
      "- rental\n",
      "- staff\n",
      "- store\n"
     ]
    },
    {
     "data": {
      "text/plain": [
       "'\\n# Opcional: Mostrar algunos registros de una tabla específica (por ejemplo, \"film\")\\ntry:\\n    cur.execute(\"SELECT * FROM film LIMIT 5;\")\\n    rows = cur.fetchall()\\n    print(\"\\nPrimeros 5 registros de la tabla \\'film\\':\")\\n    for row in rows:\\n        print(row)\\nexcept Exception as e:\\n    print(f\"Error al acceder a la tabla \\'film\\': {e}\")\\n'"
      ]
     },
     "execution_count": 6,
     "metadata": {},
     "output_type": "execute_result"
    }
   ],
   "source": [
    "# Listar todas las tablas\n",
    "cur.execute(\n",
    "    \" \\\n",
    "    SELECT name \\\n",
    "    FROM sqlite_master \\\n",
    "    WHERE type = 'table'; \\\n",
    "    \"\n",
    ")\n",
    "tables = cur.fetchall()\n",
    "\n",
    "print(\"Tablas en la base de datos:\")\n",
    "for table in tables:\n",
    "    print(f\"- {table[0]}\")\n",
    "'''\n",
    "# Opcional: Mostrar algunos registros de una tabla específica (por ejemplo, \"film\")\n",
    "try:\n",
    "    cur.execute(\"SELECT * FROM film LIMIT 5;\")\n",
    "    rows = cur.fetchall()\n",
    "    print(\"\\nPrimeros 5 registros de la tabla 'film':\")\n",
    "    for row in rows:\n",
    "        print(row)\n",
    "except Exception as e:\n",
    "    print(f\"Error al acceder a la tabla 'film': {e}\")\n",
    "'''"
   ]
  },
  {
   "cell_type": "code",
   "execution_count": 7,
   "id": "6baa078c",
   "metadata": {},
   "outputs": [
    {
     "name": "stdout",
     "output_type": "stream",
     "text": [
      "Todos los actores:\n",
      "   actor_id first_name     last_name             last_update\n",
      "0         1   Penelope       Guiness  2013-05-26 14:47:57.62\n",
      "1         2       Nick      Wahlberg  2013-05-26 14:47:57.62\n",
      "2         3         Ed         Chase  2013-05-26 14:47:57.62\n",
      "3         4   Jennifer         Davis  2013-05-26 14:47:57.62\n",
      "4         5     Johnny  Lollobrigida  2013-05-26 14:47:57.62\n",
      "5         6      Bette     Nicholson  2013-05-26 14:47:57.62\n",
      "6         7      Grace        Mostel  2013-05-26 14:47:57.62\n",
      "7         8    Matthew     Johansson  2013-05-26 14:47:57.62\n",
      "8         9        Joe         Swank  2013-05-26 14:47:57.62\n",
      "9        10  Christian         Gable  2013-05-26 14:47:57.62\n"
     ]
    }
   ],
   "source": [
    "# Presentándolo como DataFrame de pandas\n",
    "# Consulta 1: Seleccionar todos los datos de la tabla actor\n",
    "query = \"\\\n",
    "    SELECT *\\\n",
    "    FROM actor;\\\n",
    "    \"\n",
    "all_actors_df = pd.read_sql_query(\n",
    "    query,\n",
    "    conn\n",
    ")\n",
    "print(\"Todos los actores:\")\n",
    "print(all_actors_df.head(10))"
   ]
  },
  {
   "cell_type": "code",
   "execution_count": 8,
   "id": "900d92e8",
   "metadata": {},
   "outputs": [
    {
     "name": "stdout",
     "output_type": "stream",
     "text": [
      "Nombres de actores:\n",
      "  first_name     last_name\n",
      "0   Penelope       Guiness\n",
      "1       Nick      Wahlberg\n",
      "2         Ed         Chase\n",
      "3   Jennifer         Davis\n",
      "4     Johnny  Lollobrigida\n",
      "5      Bette     Nicholson\n",
      "6      Grace        Mostel\n",
      "7    Matthew     Johansson\n",
      "8        Joe         Swank\n",
      "9  Christian         Gable\n"
     ]
    }
   ],
   "source": [
    "# Consulta 2: Seleccionar first_name y last_name de la tabla actor\n",
    "query = \"\\\n",
    "    SELECT first_name, last_name\\\n",
    "    FROM actor;\\\n",
    "    \"\n",
    "names_df = pd.read_sql_query(\n",
    "    query,\n",
    "    conn\n",
    ")\n",
    "print(\"Nombres de actores:\")\n",
    "print(names_df.head(10))"
   ]
  },
  {
   "cell_type": "markdown",
   "id": "d52b61fa",
   "metadata": {},
   "source": [
    "## 13. Challenge: SELECT"
   ]
  },
  {
   "cell_type": "code",
   "execution_count": 9,
   "id": "a65b182c",
   "metadata": {},
   "outputs": [
    {
     "name": "stdout",
     "output_type": "stream",
     "text": [
      "  first_name last_name                                email\n",
      "0      Jared       Ely         jared.ely@sakilacustomer.org\n",
      "1       Mary     Smith        mary.smith@sakilacustomer.org\n",
      "2   Patricia   Johnson  patricia.johnson@sakilacustomer.org\n",
      "3      Linda  Williams    linda.williams@sakilacustomer.org\n",
      "4    Barbara     Jones     barbara.jones@sakilacustomer.org\n",
      "5  Elizabeth     Brown   elizabeth.brown@sakilacustomer.org\n",
      "6   Jennifer     Davis    jennifer.davis@sakilacustomer.org\n",
      "7      Maria    Miller      maria.miller@sakilacustomer.org\n",
      "8      Susan    Wilson      susan.wilson@sakilacustomer.org\n",
      "9   Margaret     Moore    margaret.moore@sakilacustomer.org\n"
     ]
    }
   ],
   "source": [
    "# Consulta e impresión de resultados\n",
    "query = \"\\\n",
    "    SELECT first_name, last_name, email\\\n",
    "    FROM customer;\\\n",
    "    \"\n",
    "results_df = pd.read_sql_query(\n",
    "    query,\n",
    "    conn\n",
    ")\n",
    "print(results_df.head(10))"
   ]
  },
  {
   "cell_type": "code",
   "execution_count": 10,
   "id": "7a8c3c1a",
   "metadata": {},
   "outputs": [
    {
     "name": "stdout",
     "output_type": "stream",
     "text": [
      "  first_name last_name                                email\n",
      "0      Jared       Ely         jared.ely@sakilacustomer.org\n",
      "1       Mary     Smith        mary.smith@sakilacustomer.org\n",
      "2   Patricia   Johnson  patricia.johnson@sakilacustomer.org\n",
      "3      Linda  Williams    linda.williams@sakilacustomer.org\n",
      "4    Barbara     Jones     barbara.jones@sakilacustomer.org\n"
     ]
    }
   ],
   "source": [
    "# Extra something:\n",
    "# Consulta e impresión de resultados\n",
    "query = \"\\\n",
    "    SELECT first_name, last_name, email\\\n",
    "    FROM customer\\\n",
    "    LIMIT 5; /* Aquí se limitan las filas a mostrar */ \\\n",
    "    \"\n",
    "results_df = pd.read_sql_query(\n",
    "    query,\n",
    "    conn\n",
    ")\n",
    "print(results_df.head(10)) # Como se limitaron antes, este límite de 10 queda redundante"
   ]
  },
  {
   "cell_type": "markdown",
   "id": "03fb0f0a",
   "metadata": {},
   "source": [
    "That's useful to give a look at what a table looks like.\n",
    "\n",
    "More like that:"
   ]
  },
  {
   "cell_type": "code",
   "execution_count": 11,
   "id": "6b93e4ac",
   "metadata": {},
   "outputs": [
    {
     "name": "stdout",
     "output_type": "stream",
     "text": [
      "   customer_id  store_id first_name last_name                                email  address_id activebool create_date              last_update  active\n",
      "0          524         1      Jared       Ely         jared.ely@sakilacustomer.org         530          t  2006-02-14  2013-05-26 14:49:45.738       1\n",
      "1            1         1       Mary     Smith        mary.smith@sakilacustomer.org           5          t  2006-02-14  2013-05-26 14:49:45.738       1\n",
      "2            2         1   Patricia   Johnson  patricia.johnson@sakilacustomer.org           6          t  2006-02-14  2013-05-26 14:49:45.738       1\n",
      "3            3         1      Linda  Williams    linda.williams@sakilacustomer.org           7          t  2006-02-14  2013-05-26 14:49:45.738       1\n",
      "4            4         2    Barbara     Jones     barbara.jones@sakilacustomer.org           8          t  2006-02-14  2013-05-26 14:49:45.738       1\n"
     ]
    }
   ],
   "source": [
    "# Consulta\n",
    "query = \"\\\n",
    "    SELECT *\\\n",
    "    FROM customer\\\n",
    "    LIMIT 5;\\\n",
    "    \"\n",
    "# DataFrame desde consulta\n",
    "results_df = pd.read_sql_query(\n",
    "    query,\n",
    "    conn\n",
    ")\n",
    "# Impresión\n",
    "print(results_df)"
   ]
  },
  {
   "cell_type": "markdown",
   "id": "6d00c089",
   "metadata": {},
   "source": [
    "Excepto que haya alguna forma de realmente lograr que el ancho de la impresión sea mayor, se evidencia que Jupyter Notebook no es un buen entorno para visualizar consultas SQL resultantes en muchas columnas."
   ]
  },
  {
   "cell_type": "markdown",
   "id": "ac98a174",
   "metadata": {},
   "source": [
    "## 14. SELECT DISTINCT"
   ]
  },
  {
   "cell_type": "code",
   "execution_count": 12,
   "id": "a1022c8d",
   "metadata": {},
   "outputs": [
    {
     "name": "stdout",
     "output_type": "stream",
     "text": [
      "   release_year\n",
      "0          2006\n"
     ]
    }
   ],
   "source": [
    "# Consulta\n",
    "query = \"\\\n",
    "    SELECT DISTINCT (release_year)\\\n",
    "    FROM film;\\\n",
    "    \"\n",
    "# DataFrame desde consulta\n",
    "results_df = pd.read_sql_query(\n",
    "    query,\n",
    "    conn\n",
    ")\n",
    "# Impresión\n",
    "print(results_df)"
   ]
  },
  {
   "cell_type": "code",
   "execution_count": 13,
   "id": "d14fccc0",
   "metadata": {},
   "outputs": [
    {
     "name": "stdout",
     "output_type": "stream",
     "text": [
      "   rental_rate\n",
      "0         4.99\n",
      "1         0.99\n",
      "2         2.99\n"
     ]
    }
   ],
   "source": [
    "# Consulta\n",
    "query = \"\\\n",
    "    SELECT DISTINCT (rental_rate)\\\n",
    "    FROM film;\\\n",
    "    \"\n",
    "# DataFrame desde consulta\n",
    "results_df = pd.read_sql_query(\n",
    "    query,\n",
    "    conn\n",
    ")\n",
    "# Impresión\n",
    "print(results_df)"
   ]
  },
  {
   "cell_type": "markdown",
   "id": "6540cee8",
   "metadata": {},
   "source": [
    "## 15. Challenge: SELECT DISTINCT"
   ]
  },
  {
   "cell_type": "code",
   "execution_count": 14,
   "id": "5d51cff3",
   "metadata": {},
   "outputs": [
    {
     "name": "stdout",
     "output_type": "stream",
     "text": [
      "  rating\n",
      "0  NC-17\n",
      "1      R\n",
      "2  PG-13\n",
      "3     PG\n",
      "4      G\n"
     ]
    }
   ],
   "source": [
    "# Consulta\n",
    "query = \"\\\n",
    "    SELECT DISTINCT (rating)\\\n",
    "    FROM film;\\\n",
    "    \"\n",
    "# DataFrame desde consulta\n",
    "results_df = pd.read_sql_query(\n",
    "    query,\n",
    "    conn\n",
    ")\n",
    "# Impresión\n",
    "print(results_df)"
   ]
  },
  {
   "cell_type": "markdown",
   "id": "bab250a3",
   "metadata": {},
   "source": [
    "## 16. COUNT"
   ]
  },
  {
   "cell_type": "code",
   "execution_count": 15,
   "id": "ac23350e",
   "metadata": {},
   "outputs": [
    {
     "ename": "DatabaseError",
     "evalue": "Execution failed on sql '    SELECT COUNT *    FROM film; /* This is invalid syntax. Parenthesis! */     ': near \"FROM\": syntax error",
     "output_type": "error",
     "traceback": [
      "\u001b[1;31m---------------------------------------------------------------------------\u001b[0m",
      "\u001b[1;31mOperationalError\u001b[0m                          Traceback (most recent call last)",
      "File \u001b[1;32m~\\anaconda3\\Lib\\site-packages\\pandas\\io\\sql.py:2202\u001b[0m, in \u001b[0;36mSQLiteDatabase.execute\u001b[1;34m(self, sql, params)\u001b[0m\n\u001b[0;32m   2201\u001b[0m \u001b[38;5;28;01mtry\u001b[39;00m:\n\u001b[1;32m-> 2202\u001b[0m     cur\u001b[38;5;241m.\u001b[39mexecute(sql, \u001b[38;5;241m*\u001b[39margs)\n\u001b[0;32m   2203\u001b[0m     \u001b[38;5;28;01mreturn\u001b[39;00m cur\n",
      "\u001b[1;31mOperationalError\u001b[0m: near \"FROM\": syntax error",
      "\nThe above exception was the direct cause of the following exception:\n",
      "\u001b[1;31mDatabaseError\u001b[0m                             Traceback (most recent call last)",
      "Cell \u001b[1;32mIn[15], line 7\u001b[0m\n\u001b[0;32m      2\u001b[0m query \u001b[38;5;241m=\u001b[39m \u001b[38;5;124m\"\u001b[39m\u001b[38;5;130;01m\\\u001b[39;00m\n\u001b[0;32m      3\u001b[0m \u001b[38;5;124m    SELECT COUNT *\u001b[39m\u001b[38;5;130;01m\\\u001b[39;00m\n\u001b[0;32m      4\u001b[0m \u001b[38;5;124m    FROM film; /* This is invalid syntax. Parenthesis! */ \u001b[39m\u001b[38;5;130;01m\\\u001b[39;00m\n\u001b[0;32m      5\u001b[0m \u001b[38;5;124m    \u001b[39m\u001b[38;5;124m\"\u001b[39m\n\u001b[0;32m      6\u001b[0m \u001b[38;5;66;03m# DataFrame desde consulta\u001b[39;00m\n\u001b[1;32m----> 7\u001b[0m results_df \u001b[38;5;241m=\u001b[39m pd\u001b[38;5;241m.\u001b[39mread_sql_query(\n\u001b[0;32m      8\u001b[0m     query,\n\u001b[0;32m      9\u001b[0m     conn\n\u001b[0;32m     10\u001b[0m )\n\u001b[0;32m     11\u001b[0m \u001b[38;5;66;03m# Impresión\u001b[39;00m\n\u001b[0;32m     12\u001b[0m \u001b[38;5;28mprint\u001b[39m(results_df)\n",
      "File \u001b[1;32m~\\anaconda3\\Lib\\site-packages\\pandas\\io\\sql.py:469\u001b[0m, in \u001b[0;36mread_sql_query\u001b[1;34m(sql, con, index_col, coerce_float, params, parse_dates, chunksize, dtype, dtype_backend)\u001b[0m\n\u001b[0;32m    466\u001b[0m     dtype_backend \u001b[38;5;241m=\u001b[39m \u001b[38;5;124m\"\u001b[39m\u001b[38;5;124mnumpy\u001b[39m\u001b[38;5;124m\"\u001b[39m  \u001b[38;5;66;03m# type: ignore[assignment]\u001b[39;00m\n\u001b[0;32m    468\u001b[0m \u001b[38;5;28;01mwith\u001b[39;00m pandasSQL_builder(con) \u001b[38;5;28;01mas\u001b[39;00m pandas_sql:\n\u001b[1;32m--> 469\u001b[0m     \u001b[38;5;28;01mreturn\u001b[39;00m pandas_sql\u001b[38;5;241m.\u001b[39mread_query(\n\u001b[0;32m    470\u001b[0m         sql,\n\u001b[0;32m    471\u001b[0m         index_col\u001b[38;5;241m=\u001b[39mindex_col,\n\u001b[0;32m    472\u001b[0m         params\u001b[38;5;241m=\u001b[39mparams,\n\u001b[0;32m    473\u001b[0m         coerce_float\u001b[38;5;241m=\u001b[39mcoerce_float,\n\u001b[0;32m    474\u001b[0m         parse_dates\u001b[38;5;241m=\u001b[39mparse_dates,\n\u001b[0;32m    475\u001b[0m         chunksize\u001b[38;5;241m=\u001b[39mchunksize,\n\u001b[0;32m    476\u001b[0m         dtype\u001b[38;5;241m=\u001b[39mdtype,\n\u001b[0;32m    477\u001b[0m         dtype_backend\u001b[38;5;241m=\u001b[39mdtype_backend,\n\u001b[0;32m    478\u001b[0m     )\n",
      "File \u001b[1;32m~\\anaconda3\\Lib\\site-packages\\pandas\\io\\sql.py:2266\u001b[0m, in \u001b[0;36mSQLiteDatabase.read_query\u001b[1;34m(self, sql, index_col, coerce_float, parse_dates, params, chunksize, dtype, dtype_backend)\u001b[0m\n\u001b[0;32m   2255\u001b[0m \u001b[38;5;28;01mdef\u001b[39;00m \u001b[38;5;21mread_query\u001b[39m(\n\u001b[0;32m   2256\u001b[0m     \u001b[38;5;28mself\u001b[39m,\n\u001b[0;32m   2257\u001b[0m     sql,\n\u001b[1;32m   (...)\u001b[0m\n\u001b[0;32m   2264\u001b[0m     dtype_backend: DtypeBackend \u001b[38;5;241m|\u001b[39m Literal[\u001b[38;5;124m\"\u001b[39m\u001b[38;5;124mnumpy\u001b[39m\u001b[38;5;124m\"\u001b[39m] \u001b[38;5;241m=\u001b[39m \u001b[38;5;124m\"\u001b[39m\u001b[38;5;124mnumpy\u001b[39m\u001b[38;5;124m\"\u001b[39m,\n\u001b[0;32m   2265\u001b[0m ) \u001b[38;5;241m-\u001b[39m\u001b[38;5;241m>\u001b[39m DataFrame \u001b[38;5;241m|\u001b[39m Iterator[DataFrame]:\n\u001b[1;32m-> 2266\u001b[0m     cursor \u001b[38;5;241m=\u001b[39m \u001b[38;5;28mself\u001b[39m\u001b[38;5;241m.\u001b[39mexecute(sql, params)\n\u001b[0;32m   2267\u001b[0m     columns \u001b[38;5;241m=\u001b[39m [col_desc[\u001b[38;5;241m0\u001b[39m] \u001b[38;5;28;01mfor\u001b[39;00m col_desc \u001b[38;5;129;01min\u001b[39;00m cursor\u001b[38;5;241m.\u001b[39mdescription]\n\u001b[0;32m   2269\u001b[0m     \u001b[38;5;28;01mif\u001b[39;00m chunksize \u001b[38;5;129;01mis\u001b[39;00m \u001b[38;5;129;01mnot\u001b[39;00m \u001b[38;5;28;01mNone\u001b[39;00m:\n",
      "File \u001b[1;32m~\\anaconda3\\Lib\\site-packages\\pandas\\io\\sql.py:2214\u001b[0m, in \u001b[0;36mSQLiteDatabase.execute\u001b[1;34m(self, sql, params)\u001b[0m\n\u001b[0;32m   2211\u001b[0m     \u001b[38;5;28;01mraise\u001b[39;00m ex \u001b[38;5;28;01mfrom\u001b[39;00m \u001b[38;5;21;01minner_exc\u001b[39;00m\n\u001b[0;32m   2213\u001b[0m ex \u001b[38;5;241m=\u001b[39m DatabaseError(\u001b[38;5;124mf\u001b[39m\u001b[38;5;124m\"\u001b[39m\u001b[38;5;124mExecution failed on sql \u001b[39m\u001b[38;5;124m'\u001b[39m\u001b[38;5;132;01m{\u001b[39;00msql\u001b[38;5;132;01m}\u001b[39;00m\u001b[38;5;124m'\u001b[39m\u001b[38;5;124m: \u001b[39m\u001b[38;5;132;01m{\u001b[39;00mexc\u001b[38;5;132;01m}\u001b[39;00m\u001b[38;5;124m\"\u001b[39m)\n\u001b[1;32m-> 2214\u001b[0m \u001b[38;5;28;01mraise\u001b[39;00m ex \u001b[38;5;28;01mfrom\u001b[39;00m \u001b[38;5;21;01mexc\u001b[39;00m\n",
      "\u001b[1;31mDatabaseError\u001b[0m: Execution failed on sql '    SELECT COUNT *    FROM film; /* This is invalid syntax. Parenthesis! */     ': near \"FROM\": syntax error"
     ]
    }
   ],
   "source": [
    "# Consulta\n",
    "query = \"\\\n",
    "    SELECT COUNT *\\\n",
    "    FROM film; /* This is invalid syntax. Parenthesis! */ \\\n",
    "    \"\n",
    "# DataFrame desde consulta\n",
    "results_df = pd.read_sql_query(\n",
    "    query,\n",
    "    conn\n",
    ")\n",
    "# Impresión\n",
    "print(results_df)"
   ]
  },
  {
   "cell_type": "code",
   "execution_count": 16,
   "id": "d70af37d",
   "metadata": {},
   "outputs": [
    {
     "name": "stdout",
     "output_type": "stream",
     "text": [
      "   COUNT (*)\n",
      "0       1000\n"
     ]
    }
   ],
   "source": [
    "# Consulta\n",
    "query = \"\\\n",
    "    SELECT COUNT (*)\\\n",
    "    FROM film; \\\n",
    "    \"\n",
    "# DataFrame desde consulta\n",
    "results_df = pd.read_sql_query(\n",
    "    query,\n",
    "    conn\n",
    ")\n",
    "# Impresión\n",
    "print(results_df)"
   ]
  },
  {
   "cell_type": "markdown",
   "id": "8708a3b6",
   "metadata": {},
   "source": [
    "Use a column name instead of \\*, because it might refresh memory on what \n",
    "question was trying to be answered (when revisiting the query at a later time).\n",
    "\n",
    "Combine with DISTINCT --> how many unique values."
   ]
  },
  {
   "cell_type": "code",
   "execution_count": 17,
   "id": "e5bdcdb2",
   "metadata": {},
   "outputs": [
    {
     "name": "stdout",
     "output_type": "stream",
     "text": [
      "   COUNT(DISTINCT (rating))\n",
      "0                         5\n"
     ]
    }
   ],
   "source": [
    "# Consulta\n",
    "query = \"\\\n",
    "    SELECT COUNT(DISTINCT (rating))\\\n",
    "    FROM film;\\\n",
    "    \"\n",
    "# DataFrame desde consulta\n",
    "results_df = pd.read_sql_query(\n",
    "    query,\n",
    "    conn\n",
    ")\n",
    "# Impresión\n",
    "print(results_df)"
   ]
  },
  {
   "cell_type": "markdown",
   "id": "1ae8e7d2",
   "metadata": {},
   "source": [
    "Examples from video."
   ]
  },
  {
   "cell_type": "code",
   "execution_count": 18,
   "id": "55f81617",
   "metadata": {},
   "outputs": [
    {
     "name": "stdout",
     "output_type": "stream",
     "text": [
      "    payment_id  customer_id  staff_id  rental_id  amount                payment_date\n",
      "0        17503          341         2       1520    7.99  2007-02-15 22:25:46.996577\n",
      "1        17504          341         1       1778    1.99  2007-02-16 17:23:14.996577\n",
      "2        17505          341         1       1849    7.99  2007-02-16 22:41:45.996577\n",
      "3        17506          341         2       2829    2.99  2007-02-19 19:39:56.996577\n",
      "4        17507          341         2       3130    7.99  2007-02-20 17:31:48.996577\n",
      "5        17508          341         1       3382    5.99  2007-02-21 12:33:49.996577\n",
      "6        17509          342         2       2190    5.99  2007-02-17 23:58:17.996577\n",
      "7        17510          342         1       2914    5.99  2007-02-20 02:11:44.996577\n",
      "8        17511          342         1       3081    2.99  2007-02-20 13:57:39.996577\n",
      "9        17512          343         2       1547    4.99  2007-02-16 00:10:50.996577\n",
      "10       17513          343         1       1564    6.99  2007-02-16 01:15:33.996577\n",
      "11       17514          343         2       1879    0.99  2007-02-17 01:26:00.996577\n",
      "12       17515          343         2       1922    0.99  2007-02-17 04:32:51.996577\n",
      "13       17516          343         2       2461    6.99  2007-02-18 18:26:38.996577\n",
      "14       17517          343         1       2980    8.99  2007-02-20 07:03:29.996577\n",
      "15       17518          343         1       3407    0.99  2007-02-21 14:42:28.996577\n",
      "16       17519          344         1       1341    3.99  2007-02-15 10:54:44.996577\n",
      "17       17520          344         2       1475    4.99  2007-02-15 19:36:27.996577\n",
      "18       17521          344         1       1731    0.99  2007-02-16 14:00:38.996577\n",
      "19       17522          345         2       1210    0.99  2007-02-15 01:26:17.996577\n"
     ]
    }
   ],
   "source": [
    "# Consulta\n",
    "query = \"\\\n",
    "    SELECT *\\\n",
    "    FROM payment;\\\n",
    "    \"\n",
    "# DataFrame desde consulta\n",
    "results_df = pd.read_sql_query(\n",
    "    query,\n",
    "    conn\n",
    ")\n",
    "# Impresión\n",
    "print(results_df.head(20)) # Limito la cantidad de filas del resultado por practicidad"
   ]
  },
  {
   "cell_type": "code",
   "execution_count": 19,
   "id": "d11c7fbf",
   "metadata": {},
   "outputs": [
    {
     "name": "stdout",
     "output_type": "stream",
     "text": [
      "   COUNT(*)\n",
      "0     14596\n"
     ]
    }
   ],
   "source": [
    "# Consulta\n",
    "query = \"\\\n",
    "    SELECT COUNT(*)\\\n",
    "    FROM payment;\\\n",
    "    \"\n",
    "# DataFrame desde consulta\n",
    "results_df = pd.read_sql_query(\n",
    "    query,\n",
    "    conn\n",
    ")\n",
    "# Impresión\n",
    "print(results_df)"
   ]
  },
  {
   "cell_type": "code",
   "execution_count": 20,
   "id": "77edf15b",
   "metadata": {},
   "outputs": [
    {
     "name": "stdout",
     "output_type": "stream",
     "text": [
      "   COUNT(amount) /* counting only over one column */\n",
      "0                                              14596\n"
     ]
    }
   ],
   "source": [
    "# Consulta\n",
    "query = \"\\\n",
    "    SELECT COUNT(amount) /* counting only over one column */ \\\n",
    "    FROM payment; /* will return same result as last query */ \\\n",
    "    \"\n",
    "# DataFrame desde consulta\n",
    "results_df = pd.read_sql_query(\n",
    "    query,\n",
    "    conn\n",
    ")\n",
    "# Impresión\n",
    "print(results_df)"
   ]
  },
  {
   "cell_type": "code",
   "execution_count": 21,
   "id": "c7f9a3db",
   "metadata": {},
   "outputs": [
    {
     "name": "stdout",
     "output_type": "stream",
     "text": [
      "   COUNT(DISTINCT (amount))\n",
      "0                        19\n"
     ]
    }
   ],
   "source": [
    "# Consulta\n",
    "query = \"\\\n",
    "    SELECT COUNT(DISTINCT (amount))\\\n",
    "    FROM payment;\\\n",
    "    \"\n",
    "# DataFrame desde consulta\n",
    "results_df = pd.read_sql_query(\n",
    "    query,\n",
    "    conn\n",
    ")\n",
    "# Impresión\n",
    "print(results_df)"
   ]
  },
  {
   "cell_type": "markdown",
   "id": "575af2e8",
   "metadata": {},
   "source": [
    "## 17. SELECT WHERE pt. 1"
   ]
  },
  {
   "cell_type": "code",
   "execution_count": 22,
   "id": "c4328bda",
   "metadata": {},
   "outputs": [
    {
     "name": "stdout",
     "output_type": "stream",
     "text": [
      "   film_id            title                                        description  release_year  language_id  rental_duration  rental_rate  length  replacement_cost rating              last_update special_features                                           fulltext\n",
      "0      133  Chamber Italian  A Fateful Reflection of a Moose And a Husband ...          2006            1                7         4.99     117             14.99  NC-17  2013-05-26 14:50:58.951       {Trailers}  'chamber':1 'fate':4 'husband':11 'italian':2 ...\n"
     ]
    }
   ],
   "source": [
    "# Consulta\n",
    "query = \"\\\n",
    "    SELECT *\\\n",
    "    FROM film\\\n",
    "    LIMIT 1;\\\n",
    "    \"\n",
    "# DataFrame desde consulta\n",
    "results_df = pd.read_sql_query(\n",
    "    query,\n",
    "    conn\n",
    ")\n",
    "# Impresión\n",
    "print(results_df)"
   ]
  },
  {
   "cell_type": "code",
   "execution_count": 23,
   "id": "be0705d7",
   "metadata": {},
   "outputs": [
    {
     "name": "stdout",
     "output_type": "stream",
     "text": [
      "   rental_duration\n",
      "0                7\n",
      "1                5\n",
      "2                6\n",
      "3                4\n",
      "4                3\n"
     ]
    }
   ],
   "source": [
    "# Consulta\n",
    "query = \"\\\n",
    "    SELECT DISTINCT (rental_duration)\\\n",
    "    FROM film;\\\n",
    "    \"\n",
    "# DataFrame desde consulta\n",
    "results_df = pd.read_sql_query(\n",
    "    query,\n",
    "    conn\n",
    ")\n",
    "# Impresión\n",
    "print(results_df)"
   ]
  },
  {
   "cell_type": "markdown",
   "id": "39a121d0",
   "metadata": {},
   "source": [
    "EXAMPLE:"
   ]
  },
  {
   "cell_type": "code",
   "execution_count": 24,
   "id": "4360cca1",
   "metadata": {},
   "outputs": [
    {
     "name": "stdout",
     "output_type": "stream",
     "text": [
      "                title  length                                        description\n",
      "0     Airplane Sierra      62  A Touching Saga of a Hunter And a Butler who m...\n",
      "1       Alter Victory      57  A Thoughtful Drama of a Composer And a Feminis...\n",
      "2  Beethoven Exorcist     151  A Epic Display of a Pioneer And a Student who ...\n",
      "3       Blindness Gun     103  A Touching Drama of a Robot And a Dentist who ...\n",
      "4       Butch Panther      67  A Lacklusture Yarn of a Feminist And a Databas...\n",
      "5       Chicago North     185  A Fateful Yarn of a Mad Cow And a Waitress who...\n",
      "6     Cleopatra Devil     150  A Fanciful Documentary of a Crocodile And a Te...\n",
      "7  Congeniality Quest      87  A Touching Documentary of a Cat And a Pastry C...\n",
      "8     Crooked Frogmen     143  A Unbelieveable Drama of a Hunter And a Databa...\n",
      "9        Deep Crusade      51  A Amazing Tale of a Crocodile And a Squirrel w...\n"
     ]
    }
   ],
   "source": [
    "# Consulta\n",
    "query = \"\\\n",
    "    SELECT title, length, description\\\n",
    "    FROM film\\\n",
    "    WHERE rating = 'PG-13'\\\n",
    "        AND rental_duration = 6;\\\n",
    "    \"\n",
    "# DataFrame desde consulta\n",
    "results_df = pd.read_sql_query(\n",
    "    query,\n",
    "    conn\n",
    ")\n",
    "# Impresión\n",
    "print(results_df.head(10))"
   ]
  },
  {
   "cell_type": "markdown",
   "id": "fd8ffbd4",
   "metadata": {},
   "source": [
    "## 18. SELECT WHERE pt. 2"
   ]
  },
  {
   "cell_type": "code",
   "execution_count": 25,
   "id": "1a766cfc",
   "metadata": {},
   "outputs": [
    {
     "name": "stdout",
     "output_type": "stream",
     "text": [
      "   customer_id  store_id first_name last_name                                email  address_id activebool create_date              last_update  active\n",
      "0          524         1      Jared       Ely         jared.ely@sakilacustomer.org         530          t  2006-02-14  2013-05-26 14:49:45.738       1\n",
      "1            1         1       Mary     Smith        mary.smith@sakilacustomer.org           5          t  2006-02-14  2013-05-26 14:49:45.738       1\n",
      "2            2         1   Patricia   Johnson  patricia.johnson@sakilacustomer.org           6          t  2006-02-14  2013-05-26 14:49:45.738       1\n",
      "3            3         1      Linda  Williams    linda.williams@sakilacustomer.org           7          t  2006-02-14  2013-05-26 14:49:45.738       1\n",
      "4            4         2    Barbara     Jones     barbara.jones@sakilacustomer.org           8          t  2006-02-14  2013-05-26 14:49:45.738       1\n",
      "5            5         1  Elizabeth     Brown   elizabeth.brown@sakilacustomer.org           9          t  2006-02-14  2013-05-26 14:49:45.738       1\n",
      "6            6         2   Jennifer     Davis    jennifer.davis@sakilacustomer.org          10          t  2006-02-14  2013-05-26 14:49:45.738       1\n",
      "7            7         1      Maria    Miller      maria.miller@sakilacustomer.org          11          t  2006-02-14  2013-05-26 14:49:45.738       1\n",
      "8            8         2      Susan    Wilson      susan.wilson@sakilacustomer.org          12          t  2006-02-14  2013-05-26 14:49:45.738       1\n",
      "9            9         2   Margaret     Moore    margaret.moore@sakilacustomer.org          13          t  2006-02-14  2013-05-26 14:49:45.738       1\n"
     ]
    }
   ],
   "source": [
    "# Consulta\n",
    "query = \"\\\n",
    "    SELECT *\\\n",
    "    FROM customer;\\\n",
    "    \"\n",
    "# DataFrame desde consulta\n",
    "results_df = pd.read_sql_query(\n",
    "    query,\n",
    "    conn\n",
    ")\n",
    "# Impresión\n",
    "print(results_df.head(10))"
   ]
  },
  {
   "cell_type": "code",
   "execution_count": 26,
   "id": "c6dca75b",
   "metadata": {},
   "outputs": [
    {
     "name": "stdout",
     "output_type": "stream",
     "text": [
      "   customer_id  store_id first_name last_name                         email  address_id activebool create_date              last_update  active\n",
      "0          524         1      Jared       Ely  jared.ely@sakilacustomer.org         530          t  2006-02-14  2013-05-26 14:49:45.738       1\n"
     ]
    }
   ],
   "source": [
    "# Consulta\n",
    "query = \"\\\n",
    "    SELECT * FROM customer\\\n",
    "    WHERE first_name = 'Jared';\\\n",
    "    \"\n",
    "# DataFrame desde consulta\n",
    "results_df = pd.read_sql_query(\n",
    "    query,\n",
    "    conn\n",
    ")\n",
    "# Impresión\n",
    "print(results_df)"
   ]
  },
  {
   "cell_type": "code",
   "execution_count": 27,
   "id": "ebad7a56",
   "metadata": {},
   "outputs": [
    {
     "name": "stdout",
     "output_type": "stream",
     "text": [
      "     film_id                      title                                        description  release_year  language_id  rental_duration  rental_rate  length  replacement_cost rating              last_update                                   special_features                                           fulltext\n",
      "0        133            Chamber Italian  A Fateful Reflection of a Moose And a Husband ...          2006            1                7         4.99     117             14.99  NC-17  2013-05-26 14:50:58.951                                         {Trailers}  'chamber':1 'fate':4 'husband':11 'italian':2 ...\n",
      "1        384           Grosse Wonderful  A Epic Drama of a Cat And a Explorer who must ...          2006            1                5         4.99      49             19.99      R  2013-05-26 14:50:58.951                              {\"Behind the Scenes\"}  'australia':18 'cat':8 'drama':5 'epic':4 'exp...\n",
      "2          8            Airport Pollock  A Epic Tale of a Moose And a Girl who must Con...          2006            1                6         4.99      54             15.99      R  2013-05-26 14:50:58.951                                         {Trailers}  'airport':1 'ancient':18 'confront':14 'epic':...\n",
      "3         98          Bright Encounters  A Fateful Yarn of a Lumberjack And a Feminist ...          2006            1                4         4.99      73             12.99  PG-13  2013-05-26 14:50:58.951                                         {Trailers}  'boat':20 'bright':1 'conquer':14 'encount':2 ...\n",
      "4          2             Ace Goldfinger  A Astounding Epistle of a Database Administrat...          2006            1                3         4.99      48             12.99      G  2013-05-26 14:50:58.951                        {Trailers,\"Deleted Scenes\"}  'ace':1 'administr':9 'ancient':19 'astound':4...\n",
      "5          7            Airplane Sierra  A Touching Saga of a Hunter And a Butler who m...          2006            1                6         4.99      62             28.99  PG-13  2013-05-26 14:50:58.951                        {Trailers,\"Deleted Scenes\"}  'airplan':1 'boat':20 'butler':11,16 'discov':...\n",
      "6         10           Aladdin Calendar  A Action-Packed Tale of a Man And a Lumberjack...          2006            1                6         4.99      63             24.99  NC-17  2013-05-26 14:50:58.951                        {Trailers,\"Deleted Scenes\"}  'action':5 'action-pack':4 'aladdin':1 'ancien...\n",
      "7         13                Ali Forever  A Action-Packed Drama of a Dentist And a Croco...          2006            1                4         4.99     150             21.99     PG  2013-05-26 14:50:58.951             {\"Deleted Scenes\",\"Behind the Scenes\"}  'action':5 'action-pack':4 'ali':1 'battl':16 ...\n",
      "8         20        Amelie Hellfighters  A Boring Drama of a Woman And a Squirrel who m...          2006            1                4         4.99      79             23.99      R  2013-05-26 14:50:58.951  {Commentaries,\"Deleted Scenes\",\"Behind the Sce...  'ameli':1 'baloon':19 'bore':4 'conquer':14 'd...\n",
      "9         21            American Circus  A Insightful Drama of a Girl And a Astronaut w...          2006            1                3         4.99     129             17.99      R  2013-05-26 14:50:58.951                 {Commentaries,\"Behind the Scenes\"}  'administr':17 'american':1 'astronaut':11 'ci...\n",
      "10        28                Anthem Luke  A Touching Panorama of a Waitress And a Woman ...          2006            1                5         4.99      91             16.99  PG-13  2013-05-26 14:50:58.951             {\"Deleted Scenes\",\"Behind the Scenes\"}  'abandon':19 'amus':20 'anthem':1 'dog':16 'lu...\n",
      "11        31              Apache Divine  A Awe-Inspiring Reflection of a Pastry Chef An...          2006            1                5         4.99      92             16.99  NC-17  2013-05-26 14:50:58.951  {Commentaries,\"Deleted Scenes\",\"Behind the Sce...  'apach':1 'awe':5 'awe-inspir':4 'boat':25 'ch...\n",
      "12        32       Apocalypse Flamingos  A Astounding Story of a Dog And a Squirrel who...          2006            1                6         4.99     119             11.99      R  2013-05-26 14:50:58.951                            {Trailers,Commentaries}  'abandon':19 'amus':20 'apocalyps':1 'astound'...\n",
      "13       265                Dying Maker  A Intrepid Tale of a Boat And a Monkey who mus...          2006            1                5         4.99     168             28.99     PG  2013-05-26 14:50:58.951                              {\"Behind the Scenes\"}  'boat':8 'california':18 'cat':16 'die':1 'int...\n",
      "14        44               Attacks Hate  A Fast-Paced Panorama of a Technical Writer An...          2006            1                5         4.99     113             21.99  PG-13  2013-05-26 14:50:58.951                     {Trailers,\"Behind the Scenes\"}  'abandon':23 'attack':1 'fast':5 'fast-pac':4 ...\n",
      "15        45          Attraction Newton  A Astounding Panorama of a Composer And a Fris...          2006            1                5         4.99      83             14.99  PG-13  2013-05-26 14:50:58.951                     {Trailers,\"Behind the Scenes\"}  'ancient':18 'astound':4 'attract':1 'compos':...\n",
      "16        46                Autumn Crow  A Beautiful Tale of a Dentist And a Mad Cow wh...          2006            1                3         4.99     108             13.99      G  2013-05-26 14:50:58.951  {Trailers,Commentaries,\"Deleted Scenes\",\"Behin...  'autumn':1 'battl':15 'beauti':4 'cow':12 'cro...\n",
      "17        47                  Baby Hall  A Boring Character Study of a A Shark And a Gi...          2006            1                5         4.99     153             23.99  NC-17  2013-05-26 14:50:58.951                                     {Commentaries}  'abandon':21 'babi':1 'bore':4 'charact':5 'fe...\n",
      "18        48        Backlash Undefeated  A Stunning Character Study of a Mad Scientist ...          2006            1                3         4.99     118             24.99  PG-13  2013-05-26 14:50:58.951                     {Trailers,\"Behind the Scenes\"}  'backlash':1 'car':19 'charact':5 'cow':14 'ki...\n",
      "19       126          Casualties Encino  A Insightful Yarn of a A Shark And a Pastry Ch...          2006            1                3         4.99     179             16.99      G  2013-05-26 14:50:58.951                                         {Trailers}  'boy':18 'casualti':1 'chef':13 'encino':2 'fa...\n",
      "20        60            Beast Hunchback  A Awe-Inspiring Epistle of a Student And a Squ...          2006            1                3         4.99      89             22.99      R  2013-05-26 14:50:58.951             {\"Deleted Scenes\",\"Behind the Scenes\"}  'ancient':20 'awe':5 'awe-inspir':4 'beast':1 ...\n",
      "21        61              Beauty Grease  A Fast-Paced Display of a Composer And a Moose...          2006            1                5         4.99     175             28.99      G  2013-05-26 14:50:58.951                            {Trailers,Commentaries}  'abandon':21 'beauti':1 'compos':10 'display':...\n",
      "22        65           Behavior Runaway  A Unbelieveable Drama of a Student And a Husba...          2006            1                3         4.99     100             20.99     PG  2013-05-26 14:50:58.951    {Trailers,\"Deleted Scenes\",\"Behind the Scenes\"}  'behavior':1 'berlin':19 'drama':5 'husband':1...\n",
      "23        68              Betrayed Rear  A Emotional Character Study of a Boat And a Pi...          2006            1                5         4.99     122             26.99  NC-17  2013-05-26 14:50:58.951  {Commentaries,\"Deleted Scenes\",\"Behind the Sce...  'betray':1 'boat':9 'charact':5 'emot':4 'expl...\n",
      "24        70           Bikini Borrowers  A Astounding Drama of a Astronaut And a Cat wh...          2006            1                7         4.99     142             26.99  NC-17  2013-05-26 14:50:58.951                    {Commentaries,\"Deleted Scenes\"}  'astound':4 'astronaut':8 'bikini':1 'borrow':...\n",
      "25        71            Bilko Anonymous  A Emotional Reflection of a Teacher And a Man ...          2006            1                3         4.99     100             25.99  PG-13  2013-05-26 14:50:58.951  {Commentaries,\"Deleted Scenes\",\"Behind the Sce...  'anonym':2 'bilko':1 'cat':16 'emot':4 'first'...\n",
      "26        74            Birch Antitrust  A Fanciful Panorama of a Husband And a Pioneer...          2006            1                4         4.99     162             18.99     PG  2013-05-26 14:50:58.951           {Trailers,Commentaries,\"Deleted Scenes\"}  'antitrust':2 'baloon':19 'birch':1 'dog':16 '...\n",
      "27        75          Bird Independence  A Thrilling Documentary of a Car And a Student...          2006            1                6         4.99     163             14.99      G  2013-05-26 14:50:58.951                 {Commentaries,\"Behind the Scenes\"}  'bird':1 'canadian':19 'car':8 'documentari':5...\n",
      "28        77            Birds Perdition  A Boring Story of a Womanizer And a Pioneer wh...          2006            1                5         4.99      61             15.99      G  2013-05-26 14:50:58.951                     {Trailers,\"Behind the Scenes\"}  'bird':1 'bore':4 'california':18 'dog':16 'fa...\n",
      "29        81              Blindness Gun  A Touching Drama of a Robot And a Dentist who ...          2006            1                6         4.99     103             29.99  PG-13  2013-05-26 14:50:58.951                     {Trailers,\"Behind the Scenes\"}  'blind':1 'boat':20 'dentist':11 'drama':5 'gu...\n",
      "30        84               Boiled Dares  A Awe-Inspiring Story of a Waitress And a Dog ...          2006            1                7         4.99     102             13.99     PG  2013-05-26 14:50:58.951                            {Trailers,Commentaries}  'ancient':20 'awe':5 'awe-inspir':4 'boil':1 '...\n",
      "31        86              Boogie Amelie  A Lacklusture Character Study of a Husband And...          2006            1                6         4.99     121             11.99      R  2013-05-26 14:50:58.951                 {Commentaries,\"Behind the Scenes\"}  'ameli':2 'boogi':1 'charact':5 'gulf':22 'hus...\n",
      "32        88                Born Spinal  A Touching Epistle of a Frisbee And a Husband ...          2006            1                7         4.99     179             17.99     PG  2013-05-26 14:50:58.951           {Trailers,Commentaries,\"Deleted Scenes\"}  'born':1 'epistl':5 'frisbe':8 'husband':11 'm...\n",
      "33        92           Bowfinger Gables  A Fast-Paced Yarn of a Waitress And a Composer...          2006            1                7         4.99      72             19.99  NC-17  2013-05-26 14:50:58.951                        {Trailers,\"Deleted Scenes\"}  'bowfing':1 'california':20 'compos':13 'denti...\n",
      "34        93          Brannigan Sunrise  A Amazing Epistle of a Moose And a Crocodile w...          2006            1                4         4.99     121             27.99     PG  2013-05-26 14:50:58.951                                         {Trailers}  'amaz':4 'berlin':18 'brannigan':1 'crocodil':...\n",
      "35        95       Breakfast Goldfinger  A Beautiful Reflection of a Student And a Stud...          2006            1                5         4.99     123             18.99      G  2013-05-26 14:50:58.951           {Trailers,Commentaries,\"Deleted Scenes\"}  'beauti':4 'berlin':18 'breakfast':1 'fight':1...\n",
      "36       100            Brooklyn Desert  A Beautiful Drama of a Dentist And a Composer ...          2006            1                7         4.99     161             21.99      R  2013-05-26 14:50:58.951                                     {Commentaries}  'battl':14 'beauti':4 'brooklyn':1 'compos':11...\n",
      "37       102              Bubble Grosse  A Awe-Inspiring Panorama of a Crocodile And a ...          2006            1                4         4.99      60             20.99      R  2013-05-26 14:50:58.951  {Trailers,Commentaries,\"Deleted Scenes\",\"Behin...  'awe':5 'awe-inspir':4 'baloon':21 'bubbl':1 '...\n",
      "38       103         Bucket Brotherhood  A Amazing Display of a Girl And a Womanizer wh...          2006            1                7         4.99     133             27.99     PG  2013-05-26 14:50:58.951                    {Commentaries,\"Deleted Scenes\"}  'amaz':4 'baloon':19 'brotherhood':2 'bucket':...\n",
      "39       112          Calendar Gunfight  A Thrilling Drama of a Frisbee And a Lumberjac...          2006            1                4         4.99     120             22.99  NC-17  2013-05-26 14:50:58.951        {Trailers,Commentaries,\"Behind the Scenes\"}  'calendar':1 'drama':5 'frisbe':8 'gunfight':2...\n",
      "40       113           California Birds  A Thrilling Yarn of a Database Administrator A...          2006            1                4         4.99      75             19.99  NC-17  2013-05-26 14:50:58.951           {Trailers,Commentaries,\"Deleted Scenes\"}  'administr':9,18 'ancient':20 'battl':15 'bird...\n",
      "41       117             Candles Grapes  A Fanciful Character Study of a Monkey And a E...          2006            1                6         4.99     135             15.99  NC-17  2013-05-26 14:50:58.951                        {Trailers,\"Deleted Scenes\"}  'abandon':20 'astronaut':17 'build':15 'candl'...\n",
      "42       120          Caribbean Liberty  A Fanciful Tale of a Pioneer And a Technical W...          2006            1                3         4.99      92             16.99  NC-17  2013-05-26 14:50:58.951                    {Commentaries,\"Deleted Scenes\"}  'caribbean':1 'fanci':4 'liberti':2 'must':14 ...\n",
      "43       123           Casablanca Super  A Amazing Panorama of a Crocodile And a Forens...          2006            1                6         4.99      85             22.99      G  2013-05-26 14:50:58.951    {Trailers,\"Deleted Scenes\",\"Behind the Scenes\"}  'agent':18 'amaz':4 'casablanca':1 'crocodil':...\n",
      "44       124           Casper Dragonfly  A Intrepid Documentary of a Boat And a Crocodi...          2006            1                3         4.99     163             16.99  PG-13  2013-05-26 14:50:58.951                                         {Trailers}  'boat':8 'casper':1 'chase':14 'crocodil':11 '...\n",
      "45       127              Cat Coneheads  A Fast-Paced Panorama of a Girl And a A Shark ...          2006            1                5         4.99     112             14.99      G  2013-05-26 14:50:58.951                    {Commentaries,\"Deleted Scenes\"}  'ancient':21 'boy':19 'cat':1 'conehead':2 'co...\n",
      "46       131            Center Dinosaur  A Beautiful Character Study of a Sumo Wrestler...          2006            1                5         4.99     152             12.99     PG  2013-05-26 14:50:58.951                                 {\"Deleted Scenes\"}  'beauti':4 'california':20 'center':1 'charact...\n",
      "47       134        Champion Flatliners  A Amazing Story of a Mad Cow And a Dog who mus...          2006            1                4         4.99      51             21.99     PG  2013-05-26 14:50:58.951                                         {Trailers}  'amaz':4 'champion':1 'cow':9 'dog':12 'flatli...\n",
      "48       139              Chasing Fight  A Astounding Saga of a Technical Writer And a ...          2006            1                7         4.99     114             21.99     PG  2013-05-26 14:50:58.951                            {Trailers,Commentaries}  'astound':4 'battl':15 'butler':12,17 'chase':...\n",
      "49       141              Chicago North  A Fateful Yarn of a Mad Cow And a Waitress who...          2006            1                6         4.99     185             11.99  PG-13  2013-05-26 14:50:58.951             {\"Deleted Scenes\",\"Behind the Scenes\"}  'battl':15 'california':19 'chicago':1 'cow':9...\n",
      "50       144        Chinatown Gladiator  A Brilliant Panorama of a Technical Writer And...          2006            1                7         4.99      61             24.99     PG  2013-05-26 14:50:58.951           {Trailers,Commentaries,\"Deleted Scenes\"}  'ancient':19 'brilliant':4 'butler':17 'chinat...\n",
      "51       145            Chisum Behavior  A Epic Documentary of a Sumo Wrestler And a Bu...          2006            1                5         4.99     124             25.99      G  2013-05-26 14:50:58.951        {Trailers,Commentaries,\"Behind the Scenes\"}  'ancient':19 'behavior':2 'butler':12 'car':17...\n",
      "52       151       Cincinatti Whisperer  A Brilliant Saga of a Pastry Chef And a Hunter...          2006            1                5         4.99     143             26.99  NC-17  2013-05-26 14:50:58.951                                 {\"Deleted Scenes\"}  'berlin':19 'brilliant':4 'butler':17 'chef':9...\n",
      "53       156              Clerks Angels  A Thrilling Display of a Sumo Wrestler And a G...          2006            1                3         4.99     164             15.99      G  2013-05-26 14:50:58.951                                     {Commentaries}  'angel':2 'baloon':20 'clerk':1 'confront':15 ...\n",
      "54       159                Closer Bang  A Unbelieveable Panorama of a Frisbee And a Hu...          2006            1                5         4.99      58             12.99      R  2013-05-26 14:50:58.951                     {Trailers,\"Behind the Scenes\"}  'ancient':18 'bang':2 'closer':1 'frisbe':8 'h...\n",
      "55       161                 Clue Grail  A Taut Tale of a Butler And a Mad Scientist wh...          2006            1                6         4.99      70             27.99  NC-17  2013-05-26 14:50:58.951        {Trailers,Commentaries,\"Behind the Scenes\"}  'ancient':19 'build':15 'butler':8 'china':20 ...\n",
      "56       165        Coldblooded Darling  A Brilliant Panorama of a Dentist And a Moose ...          2006            1                7         4.99      70             27.99      G  2013-05-26 14:50:58.951                        {Trailers,\"Deleted Scenes\"}  'brilliant':4 'coldblood':1 'darl':2 'dentist'...\n",
      "57       167                  Coma Head  A Awe-Inspiring Drama of a Boy And a Frisbee w...          2006            1                6         4.99     109             10.99  NC-17  2013-05-26 14:50:58.951                                     {Commentaries}  'awe':5 'awe-inspir':4 'boy':10 'california':2...\n",
      "58       170            Command Darling  A Awe-Inspiring Tale of a Forensic Psychologis...          2006            1                5         4.99     120             28.99  PG-13  2013-05-26 14:50:58.951                              {\"Behind the Scenes\"}  'administr':20 'ancient':22 'awe':5 'awe-inspi...\n",
      "59       171       Commandments Express  A Fanciful Saga of a Student And a Mad Scienti...          2006            1                6         4.99      59             13.99      R  2013-05-26 14:50:58.951           {Trailers,Commentaries,\"Deleted Scenes\"}  'abandon':20 'battl':15 'command':1 'express':...\n",
      "60       172          Coneheads Smoochy  A Touching Story of a Womanizer And a Composer...          2006            1                7         4.99     112             12.99  NC-17  2013-05-26 14:50:58.951             {\"Deleted Scenes\",\"Behind the Scenes\"}  'compos':11 'conehead':1 'husband':16 'must':1...\n",
      "61       173        Confessions Maguire  A Insightful Story of a Car And a Boy who must...          2006            1                7         4.99      65             25.99  PG-13  2013-05-26 14:50:58.951                              {\"Behind the Scenes\"}  'baloon':20 'battl':14 'boy':11 'car':8 'confe...\n",
      "62       174     Confidential Interview  A Stunning Reflection of a Cat And a Woman who...          2006            1                6         4.99     180             13.99  NC-17  2013-05-26 14:50:58.951                                     {Commentaries}  'ancient':18 'astronaut':16 'cat':8 'confident...\n",
      "63       177          Connecticut Tramp  A Unbelieveable Drama of a Crocodile And a Mad...          2006            1                4         4.99     172             20.99      R  2013-05-26 14:50:58.951                    {Commentaries,\"Deleted Scenes\"}  'connecticut':1 'cow':12 'crocodil':8 'dentist...\n",
      "64       179             Conquerer Nuts  A Taut Drama of a Mad Scientist And a Man who ...          2006            1                4         4.99     173             14.99      G  2013-05-26 14:50:58.951  {Commentaries,\"Deleted Scenes\",\"Behind the Sce...  'abandon':20 'conquer':1 'drama':5 'escap':15 ...\n",
      "65       182             Control Anthem  A Fateful Documentary of a Robot And a Student...          2006            1                7         4.99     185              9.99      G  2013-05-26 14:50:58.951                                     {Commentaries}  'anthem':2 'battl':14 'cat':16 'control':1 'do...\n",
      "66       183      Conversation Downhill  A Taut Character Study of a Husband And a Wait...          2006            1                4         4.99     112             14.99      R  2013-05-26 14:50:58.951                                     {Commentaries}  'charact':5 'convent':21 'convers':1 'downhil'...\n",
      "67       190              Creepers Kane  A Awe-Inspiring Reflection of a Squirrel And a...          2006            1                5         4.99     172             23.99  NC-17  2013-05-26 14:50:58.951                     {Trailers,\"Behind the Scenes\"}  'awe':5 'awe-inspir':4 'boat':13,22 'car':18 '...\n",
      "68       192           Crossing Divorce  A Beautiful Documentary of a Dog And a Robot w...          2006            1                4         4.99      50             19.99      R  2013-05-26 14:50:58.951  {Commentaries,\"Deleted Scenes\",\"Behind the Sce...  'beauti':4 'berlin':18 'cross':1 'divorc':2 'd...\n",
      "69       195            Crowds Telemark  A Intrepid Documentary of a Astronaut And a Fo...          2006            1                3         4.99     112             16.99      R  2013-05-26 14:50:58.951                     {Trailers,\"Behind the Scenes\"}  'abandon':20 'astronaut':8 'crowd':1 'document...\n",
      "70       202           Daddy Pittsburgh  A Epic Story of a A Shark And a Student who mu...          2006            1                5         4.99     161             26.99      G  2013-05-26 14:50:58.951             {\"Deleted Scenes\",\"Behind the Scenes\"}  'confront':15 'daddi':1 'epic':4 'explor':17 '...\n",
      "71       203            Daisy Menagerie  A Fast-Paced Saga of a Pastry Chef And a Monke...          2006            1                5         4.99      84              9.99      G  2013-05-26 14:50:58.951        {Trailers,Commentaries,\"Behind the Scenes\"}  'ancient':21 'chef':11 'compos':19 'daisi':1 '...\n",
      "72       207           Dangerous Uptown  A Unbelieveable Story of a Mad Scientist And a...          2006            1                7         4.99     121             26.99     PG  2013-05-26 14:50:58.951                                     {Commentaries}  'california':19 'danger':1 'dog':17 'mad':8 'm...\n",
      "73       210               Darko Dorado  A Stunning Reflection of a Frisbee And a Husba...          2006            1                3         4.99     130             13.99  NC-17  2013-05-26 14:50:58.951  {Trailers,Commentaries,\"Deleted Scenes\",\"Behin...  'darko':1 'dog':16 'dorado':2 'frisbe':8 'husb...\n",
      "74       211           Darling Breaking  A Brilliant Documentary of a Astronaut And a S...          2006            1                7         4.99     165             20.99  PG-13  2013-05-26 14:50:58.951                 {Commentaries,\"Behind the Scenes\"}  'astronaut':8 'break':2 'brilliant':4 'darl':1...\n",
      "75       212             Darn Forrester  A Fateful Story of a A Shark And a Explorer wh...          2006            1                7         4.99     185             14.99      G  2013-05-26 14:50:58.951                                 {\"Deleted Scenes\"}  'boat':22 'darn':1 'explor':12 'fate':4 'forre...\n",
      "76       214           Daughter Madigan  A Beautiful Tale of a Hunter And a Mad Scienti...          2006            1                3         4.99      59             13.99  PG-13  2013-05-26 14:50:58.951                                         {Trailers}  'beauti':4 'confront':15 'daughter':1 'first':...\n",
      "77       215                  Dawn Pond  A Thoughtful Documentary of a Dentist And a Fo...          2006            1                4         4.99      57             27.99     PG  2013-05-26 14:50:58.951    {Trailers,\"Deleted Scenes\",\"Behind the Scenes\"}  'berlin':19 'dawn':1 'defeat':15 'dentist':8 '...\n",
      "78       216             Day Unfaithful  A Stunning Documentary of a Composer And a Mad...          2006            1                3         4.99     113             16.99      G  2013-05-26 14:50:58.951  {Trailers,Commentaries,\"Deleted Scenes\",\"Behin...  'boat':23 'compos':8 'day':1 'documentari':5 '...\n",
      "79       217                 Dazed Punk  A Action-Packed Story of a Pioneer And a Techn...          2006            1                6         4.99     120             20.99      G  2013-05-26 14:50:58.951                    {Commentaries,\"Deleted Scenes\"}  'abandon':23 'action':5 'action-pack':4 'amus'...\n",
      "80       219               Deep Crusade  A Amazing Tale of a Crocodile And a Squirrel w...          2006            1                6         4.99      51             20.99  PG-13  2013-05-26 14:50:58.951                 {Commentaries,\"Behind the Scenes\"}  'amaz':4 'australia':18 'compos':16 'crocodil'...\n",
      "81       222            Desert Poseidon  A Brilliant Documentary of a Butler And a Fris...          2006            1                4         4.99      64             27.99      R  2013-05-26 14:50:58.951                     {Trailers,\"Behind the Scenes\"}  'astronaut':16 'brilliant':4 'build':14 'butle...\n",
      "82       224    Desperate Trainspotting  A Epic Yarn of a Forensic Psychologist And a T...          2006            1                7         4.99      81             29.99      G  2013-05-26 14:50:58.951                                 {\"Deleted Scenes\"}  'california':19 'desper':1 'epic':4 'face':15 ...\n",
      "83       226           Destiny Saturday  A Touching Drama of a Crocodile And a Crocodil...          2006            1                4         4.99      56             20.99      G  2013-05-26 14:50:58.951        {Trailers,Commentaries,\"Behind the Scenes\"}  'conquer':14 'crocodil':8,11 'destini':1 'dram...\n",
      "84       227             Details Packer  A Epic Saga of a Waitress And a Composer who m...          2006            1                4         4.99      88             17.99      R  2013-05-26 14:50:58.951                    {Commentaries,\"Deleted Scenes\"}  'boat':16,21 'compos':11 'detail':1 'epic':4 '...\n",
      "85       229               Devil Desire  A Beautiful Reflection of a Monkey And a Denti...          2006            1                6         4.99      87             12.99      R  2013-05-26 14:50:58.951                     {Trailers,\"Behind the Scenes\"}  'administr':17 'ancient':19 'beauti':4 'databa...\n",
      "86       239               Dogma Family  A Brilliant Character Study of a Database Admi...          2006            1                5         4.99     122             16.99      G  2013-05-26 14:50:58.951                                     {Commentaries}  'administr':10 'astronaut':18 'brilliant':4 'c...\n",
      "87       243            Doors President  A Awe-Inspiring Display of a Squirrel And a Wo...          2006            1                3         4.99      49             22.99  NC-17  2013-05-26 14:50:58.951  {Trailers,Commentaries,\"Deleted Scenes\",\"Behin...  'awe':5 'awe-inspir':4 'boy':18 'display':7 'd...\n",
      "88       244             Dorado Notting  A Action-Packed Tale of a Sumo Wrestler And a ...          2006            1                5         4.99     139             26.99  NC-17  2013-05-26 14:50:58.951                                     {Commentaries}  'action':5 'action-pack':4 'california':22 'do...\n",
      "89       246        Doubtfire Labyrinth  A Intrepid Panorama of a Butler And a Composer...          2006            1                5         4.99     154             16.99      R  2013-05-26 14:50:58.951             {\"Deleted Scenes\",\"Behind the Scenes\"}  'butler':8 'compos':11 'cow':17 'desert':21 'd...\n",
      "90       248                 Dozen Lion  A Taut Drama of a Cat And a Girl who must Defe...          2006            1                6         4.99     177             20.99  NC-17  2013-05-26 14:50:58.951  {Commentaries,\"Deleted Scenes\",\"Behind the Sce...  'canadian':19 'cat':8 'defeat':14 'dozen':1 'd...\n",
      "91       251        Dragonfly Strangers  A Boring Documentary of a Pioneer And a Man wh...          2006            1                6         4.99     133             19.99  NC-17  2013-05-26 14:50:58.951                     {Trailers,\"Behind the Scenes\"}  'bore':4 'documentari':5 'dragonfli':1 'man':1...\n",
      "92       253       Drifter Commandments  A Epic Reflection of a Womanizer And a Squirre...          2006            1                5         4.99      61             18.99  PG-13  2013-05-26 14:50:58.951                     {Trailers,\"Behind the Scenes\"}  'boat':20 'command':2 'discov':14 'drifter':1 ...\n",
      "93       255             Driving Polish  A Action-Packed Yarn of a Feminist And a Techn...          2006            1                6         4.99     175             21.99  NC-17  2013-05-26 14:50:58.951                        {Trailers,\"Deleted Scenes\"}  'abandon':22 'action':5 'action-pack':4 'boat'...\n",
      "94       256            Drop Waterfront  A Fanciful Documentary of a Husband And a Expl...          2006            1                6         4.99     178             20.99      R  2013-05-26 14:50:58.951                            {Trailers,Commentaries}  'ancient':18 'china':19 'documentari':5 'drop'...\n",
      "95       260             Dude Blindness  A Stunning Reflection of a Husband And a Lumbe...          2006            1                3         4.99     132              9.99      G  2013-05-26 14:50:58.951                        {Trailers,\"Deleted Scenes\"}  'abandon':19 'blind':2 'dude':1 'face':14 'fri...\n",
      "96       263               Durham Panky  A Brilliant Panorama of a Girl And a Boy who m...          2006            1                6         4.99     154             14.99      R  2013-05-26 14:50:58.951                            {Trailers,Commentaries}  'abandon':20 'boy':11 'brilliant':4 'durham':1...\n",
      "97       267               Eagles Panky  A Thoughtful Story of a Car And a Boy who must...          2006            1                4         4.99     140             14.99  NC-17  2013-05-26 14:50:58.951        {Trailers,Commentaries,\"Behind the Scenes\"}  'boy':11 'car':8 'desert':21 'eagl':1 'find':1...\n",
      "98       268                 Early Home  A Amazing Panorama of a Mad Scientist And a Hu...          2006            1                6         4.99      96             27.99  NC-17  2013-05-26 14:50:58.951        {Trailers,Commentaries,\"Behind the Scenes\"}  'amaz':4 'earli':1 'home':2 'husband':12 'mad'...\n",
      "99       271             Easy Gladiator  A Fateful Story of a Monkey And a Girl who mus...          2006            1                5         4.99     148             12.99      G  2013-05-26 14:50:58.951        {Trailers,Commentaries,\"Behind the Scenes\"}  'ancient':19 'chef':17 'easi':1 'fate':4 'girl...\n",
      "100      272               Edge Kissing  A Beautiful Yarn of a Composer And a Mad Cow w...          2006            1                5         4.99     153              9.99  NC-17  2013-05-26 14:50:58.951                                 {\"Deleted Scenes\"}  'beauti':4 'boat':22 'compos':8 'cow':12 'edg'...\n",
      "101      276             Element Freddy  A Awe-Inspiring Reflection of a Waitress And a...          2006            1                6         4.99     115             28.99  NC-17  2013-05-26 14:50:58.951                 {Commentaries,\"Behind the Scenes\"}  'awe':5 'awe-inspir':4 'boat':23 'cow':19 'ele...\n",
      "102      277            Elephant Trojan  A Beautiful Panorama of a Lumberjack And a For...          2006            1                4         4.99     126             24.99  PG-13  2013-05-26 14:50:58.951                              {\"Behind the Scenes\"}  'baloon':20 'beauti':4 'eleph':1 'forens':11 '...\n",
      "103      278                 Elf Murder  A Action-Packed Story of a Frisbee And a Woman...          2006            1                4         4.99     155             19.99  NC-17  2013-05-26 14:50:58.951        {Trailers,Commentaries,\"Behind the Scenes\"}  'abandon':21 'action':5 'action-pack':4 'elf':...\n",
      "104      279            Elizabeth Shane  A Lacklusture Display of a Womanizer And a Dog...          2006            1                7         4.99     152             11.99  NC-17  2013-05-26 14:50:58.951    {Trailers,\"Deleted Scenes\",\"Behind the Scenes\"}  'ancient':19 'display':5 'dog':11 'elizabeth':...\n",
      "105      284                 Enemy Odds  A Fanciful Panorama of a Mad Scientist And a W...          2006            1                5         4.99      77             23.99  NC-17  2013-05-26 14:50:58.951                                         {Trailers}  'ancient':19 'astronaut':17 'enemi':1 'fanci':...\n",
      "106      289           Eve Resurrection  A Awe-Inspiring Yarn of a Pastry Chef And a Da...          2006            1                5         4.99      66             25.99      G  2013-05-26 14:50:58.951           {Trailers,Commentaries,\"Deleted Scenes\"}  'administr':15 'awe':5 'awe-inspir':4 'baloon'...\n",
      "107      294        Expecations Natural  A Amazing Drama of a Butler And a Husband who ...          2006            1                5         4.99     138             26.99  PG-13  2013-05-26 14:50:58.951                                 {\"Deleted Scenes\"}  'amaz':4 'boat':22 'butler':8 'drama':5 'expec...\n",
      "108      300              Falcon Volume  A Fateful Saga of a Sumo Wrestler And a Hunter...          2006            1                5         4.99     102             21.99  PG-13  2013-05-26 14:50:58.951                 {Commentaries,\"Behind the Scenes\"}  'falcon':1 'fate':4 'hunter':12 'must':14 'new...\n",
      "109      307          Fellowship Autumn  A Lacklusture Reflection of a Dentist And a Hu...          2006            1                6         4.99      77              9.99  NC-17  2013-05-26 14:50:58.951             {\"Deleted Scenes\",\"Behind the Scenes\"}  'autumn':2 'baloon':19 'dentist':8 'fellowship...\n",
      "110      310               Fever Empire  A Insightful Panorama of a Cat And a Boat who ...          2006            1                5         4.99     158             20.99      R  2013-05-26 14:50:58.951                    {Commentaries,\"Deleted Scenes\"}  'boat':11,16 'cat':8 'defeat':14 'empir':2 'fe...\n",
      "111      312               Fiddler Lost  A Boring Tale of a Squirrel And a Dog who must...          2006            1                4         4.99      75             20.99      R  2013-05-26 14:50:58.951             {\"Deleted Scenes\",\"Behind the Scenes\"}  'bore':4 'challeng':14 'dog':11 'fiddler':1 'g...\n",
      "112      313             Fidelity Devil  A Awe-Inspiring Drama of a Technical Writer An...          2006            1                5         4.99     118             11.99      G  2013-05-26 14:50:58.951    {Trailers,\"Deleted Scenes\",\"Behind the Scenes\"}  'awe':5 'awe-inspir':4 'boat':25 'chef':20 'co...\n",
      "113      316                Fire Wolves  A Intrepid Documentary of a Frisbee And a Dog ...          2006            1                5         4.99     173             18.99      R  2013-05-26 14:50:58.951                                         {Trailers}  'documentari':5 'dog':11 'fire':1 'frisbe':8 '...\n",
      "114      320      Flamingos Connecticut  A Fast-Paced Reflection of a Composer And a Co...          2006            1                4         4.99      80             28.99  PG-13  2013-05-26 14:50:58.951                                         {Trailers}  'cat':18 'compos':10,13 'connecticut':2 'deser...\n",
      "115      321                 Flash Wars  A Astounding Saga of a Moose And a Pastry Chef...          2006            1                3         4.99     123             21.99  NC-17  2013-05-26 14:50:58.951        {Trailers,Commentaries,\"Behind the Scenes\"}  'astound':4 'chase':15 'chef':12 'flash':1 'gu...\n",
      "116      323                Flight Lies  A Stunning Character Study of a Crocodile And ...          2006            1                7         4.99     179             22.99      R  2013-05-26 14:50:58.951                                         {Trailers}  'charact':5 'crocodil':9 'flight':1 'lie':2 'm...\n",
      "117      324      Flintstones Happiness  A Fateful Story of a Husband And a Moose who m...          2006            1                3         4.99     148             11.99  PG-13  2013-05-26 14:50:58.951  {Trailers,Commentaries,\"Deleted Scenes\",\"Behin...  'boy':16 'california':18 'fate':4 'flintston':...\n",
      "118      327           Fool Mockingbird  A Lacklusture Tale of a Crocodile And a Compos...          2006            1                3         4.99     158             24.99     PG  2013-05-26 14:50:58.951                            {Trailers,Commentaries}  'boat':21 'compos':11 'crocodil':8 'defeat':14...\n",
      "119      330      Forrester Comancheros  A Fateful Tale of a Squirrel And a Forensic Ps...          2006            1                7         4.99     112             22.99  NC-17  2013-05-26 14:50:58.951                     {Trailers,\"Behind the Scenes\"}  'comanchero':2 'fate':4 'forens':11 'forrest':...\n",
      "120      334               Freddy Storm  A Intrepid Saga of a Man And a Lumberjack who ...          2006            1                6         4.99      65             21.99  NC-17  2013-05-26 14:50:58.951        {Trailers,Commentaries,\"Behind the Scenes\"}  'freddi':1 'husband':16 'intrepid':4 'lumberja...\n",
      "121      336             French Holiday  A Thrilling Epistle of a Dog And a Feminist wh...          2006            1                5         4.99      99             22.99     PG  2013-05-26 14:50:58.951                              {\"Behind the Scenes\"}  'berlin':18 'dog':8 'epistl':5 'feminist':11 '...\n",
      "122      338             Frisco Forrest  A Beautiful Documentary of a Woman And a Pione...          2006            1                6         4.99      51             23.99     PG  2013-05-26 14:50:58.951  {Commentaries,\"Deleted Scenes\",\"Behind the Sce...  'beauti':4 'documentari':5 'forrest':2 'frisco...\n",
      "123      340             Frontier Cabin  A Emotional Story of a Madman And a Waitress w...          2006            1                6         4.99     183             14.99  PG-13  2013-05-26 14:50:58.951                    {Commentaries,\"Deleted Scenes\"}  'abandon':19 'battl':14 'cabin':2 'emot':4 'fr...\n",
      "124      342           Fugitive Maguire  A Taut Epistle of a Feminist And a Sumo Wrestl...          2006            1                7         4.99      83             28.99      R  2013-05-26 14:50:58.951           {Trailers,Commentaries,\"Deleted Scenes\"}  'australia':19 'battl':15 'crocodil':17 'epist...\n",
      "125      346         Galaxy Sweethearts  A Emotional Reflection of a Womanizer And a Pi...          2006            1                4         4.99     128             13.99      R  2013-05-26 14:50:58.951                                 {\"Deleted Scenes\"}  'berlin':18 'emot':4 'face':14 'galaxi':1 'mus...\n",
      "126      347            Games Bowfinger  A Astounding Documentary of a Butler And a Exp...          2006            1                7         4.99     119             17.99  PG-13  2013-05-26 14:50:58.951                              {\"Behind the Scenes\"}  'astound':4 'bowfing':2 'butler':8,16 'challen...\n",
      "127      350              Garden Island  A Unbelieveable Character Study of a Womanizer...          2006            1                3         4.99      80             21.99      G  2013-05-26 14:50:58.951                     {Trailers,\"Behind the Scenes\"}  'charact':5 'garden':1 'island':2 'madman':12 ...\n",
      "128      354            Ghost Groundhog  A Brilliant Panorama of a Madman And a Compose...          2006            1                6         4.99      85             18.99      G  2013-05-26 14:50:58.951  {Trailers,Commentaries,\"Deleted Scenes\",\"Behin...  'ancient':18 'brilliant':4 'car':16 'compos':1...\n",
      "129      359         Gladiator Westward  A Astounding Reflection of a Squirrel And a Su...          2006            1                6         4.99     173             20.99     PG  2013-05-26 14:50:58.951                    {Commentaries,\"Deleted Scenes\"}  'ancient':19 'astound':4 'dentist':17 'gladiat...\n",
      "130      365                 Gold River  A Taut Documentary of a Database Administrator...          2006            1                4         4.99     154             21.99      R  2013-05-26 14:50:58.951  {Trailers,Commentaries,\"Deleted Scenes\",\"Behin...  'administr':9 'baloon':21 'databas':8 'documen...\n",
      "131      369          Goodfellas Salute  A Unbelieveable Tale of a Dog And a Explorer w...          2006            1                4         4.99      56             22.99     PG  2013-05-26 14:50:58.951                                 {\"Deleted Scenes\"}  'baloon':20 'cow':17 'dog':8 'explor':11 'fact...\n",
      "132      371             Gosford Donnie  A Epic Panorama of a Mad Scientist And a Monke...          2006            1                5         4.99     129             17.99      G  2013-05-26 14:50:58.951                                     {Commentaries}  'agent':18 'berlin':20 'donni':2 'epic':4 'gos...\n",
      "133      372         Graceland Dynamite  A Taut Display of a Cat And a Girl who must Ov...          2006            1                5         4.99     140             26.99      R  2013-05-26 14:50:58.951                            {Trailers,Commentaries}  'administr':17 'cat':8 'databas':16 'display':...\n",
      "134      381             Grinch Massage  A Intrepid Display of a Madman And a Feminist ...          2006            1                7         4.99     150             25.99      R  2013-05-26 14:50:58.951                                         {Trailers}  'display':5 'feminist':11 'first':19 'grinch':...\n",
      "135      385            Groundhog Uncut  A Brilliant Panorama of a Astronaut And a Tech...          2006            1                6         4.99     139             26.99  PG-13  2013-05-26 14:50:58.951  {Trailers,Commentaries,\"Deleted Scenes\",\"Behin...  'astronaut':8 'brilliant':4 'butler':17 'disco...\n",
      "136      386                  Gump Date  A Intrepid Yarn of a Explorer And a Student wh...          2006            1                3         4.99      53             12.99  NC-17  2013-05-26 14:50:58.951                                 {\"Deleted Scenes\"}  'abandon':19 'date':2 'explor':8 'gump':1 'hus...\n",
      "137      390                Guys Falcon  A Boring Story of a Woman And a Feminist who m...          2006            1                4         4.99      84             20.99      R  2013-05-26 14:50:58.951        {Trailers,Commentaries,\"Behind the Scenes\"}  'boat':21 'bore':4 'falcon':2 'feminist':11 'g...\n",
      "138      392               Hall Cassidy  A Beautiful Panorama of a Pastry Chef And a A ...          2006            1                5         4.99      51             13.99  NC-17  2013-05-26 14:50:58.951                 {Commentaries,\"Behind the Scenes\"}  'battl':16 'beauti':4 'cassidi':2 'chef':9 'ge...\n",
      "139      396               Hanging Deep  A Action-Packed Yarn of a Boat And a Crocodile...          2006            1                5         4.99      62             18.99      G  2013-05-26 14:50:58.951           {Trailers,Commentaries,\"Deleted Scenes\"}  'action':5 'action-pack':4 'berlin':20 'boat':...\n",
      "140      398             Hanover Galaxy  A Stunning Reflection of a Girl And a Secret A...          2006            1                5         4.99      47             21.99  NC-17  2013-05-26 14:50:58.951  {Commentaries,\"Deleted Scenes\",\"Behind the Sce...  'agent':12 'boy':17 'convent':21 'galaxi':2 'g...\n",
      "141      403                Harry Idaho  A Taut Yarn of a Technical Writer And a Femini...          2006            1                5         4.99     121             18.99  PG-13  2013-05-26 14:50:58.951                    {Commentaries,\"Deleted Scenes\"}  'california':19 'dog':17 'feminist':12 'harri'...\n",
      "142      405          Haunted Antitrust  A Amazing Saga of a Man And a Dentist who must...          2006            1                6         4.99      76             13.99  NC-17  2013-05-26 14:50:58.951                        {Trailers,\"Deleted Scenes\"}  'amaz':4 'ancient':19 'antitrust':2 'dentist':...\n",
      "143      408              Head Stranger  A Thoughtful Saga of a Hunter And a Crocodile ...          2006            1                4         4.99      69             28.99      R  2013-05-26 14:50:58.951                            {Trailers,Commentaries}  'confront':14 'crocodil':11 'dog':16 'gulf':19...\n",
      "144      409       Heartbreakers Bright  A Awe-Inspiring Documentary of a A Shark And a...          2006            1                3         4.99      59              9.99      G  2013-05-26 14:50:58.951                        {Trailers,\"Deleted Scenes\"}  'awe':5 'awe-inspir':4 'bright':2 'canadian':2...\n",
      "145      411               Heavenly Gun  A Beautiful Yarn of a Forensic Psychologist An...          2006            1                5         4.99      49             13.99  NC-17  2013-05-26 14:50:58.951                              {\"Behind the Scenes\"}  'battl':15 'beauti':4 'boat':21 'forens':8 'fr...\n",
      "146      412         Heavyweights Beast  A Unbelieveable Story of a Composer And a Dog ...          2006            1                6         4.99     102             25.99      G  2013-05-26 14:50:58.951                                 {\"Deleted Scenes\"}  'abandon':19 'amus':20 'beast':2 'compos':8 'd...\n",
      "147      420            Holes Brannigan  A Fast-Paced Reflection of a Technical Writer ...          2006            1                7         4.99     128             27.99     PG  2013-05-26 14:50:58.951                 {Commentaries,\"Behind the Scenes\"}  'boy':19 'brannigan':2 'canadian':22 'fast':5 ...\n",
      "148      421              Holiday Games  A Insightful Reflection of a Waitress And a Ma...          2006            1                7         4.99      78             10.99  PG-13  2013-05-26 14:50:58.951        {Trailers,Commentaries,\"Behind the Scenes\"}  'ancient':18 'boy':16 'game':2 'holiday':1 'in...\n",
      "149      422            Hollow Jeopardy  A Beautiful Character Study of a Robot And a A...          2006            1                7         4.99     136             25.99  NC-17  2013-05-26 14:50:58.951                              {\"Behind the Scenes\"}  'astronaut':12 'beauti':4 'boat':17 'charact':...\n",
      "150      426                  Home Pity  A Touching Panorama of a Man And a Secret Agen...          2006            1                7         4.99     185             15.99      R  2013-05-26 14:50:58.951        {Trailers,Commentaries,\"Behind the Scenes\"}  'agent':12 'challeng':15 'convent':21 'home':1...\n",
      "151      435            Hotel Happiness  A Thrilling Yarn of a Pastry Chef And a A Shar...          2006            1                6         4.99     181             28.99  PG-13  2013-05-26 14:50:58.951                              {\"Behind the Scenes\"}  'challeng':16 'chef':9 'happi':2 'hotel':1 'ma...\n",
      "152      439       Hunchback Impossible  A Touching Yarn of a Frisbee And a Dentist who...          2006            1                4         4.99     151             28.99  PG-13  2013-05-26 14:50:58.951                        {Trailers,\"Deleted Scenes\"}  'ancient':18 'compos':16 'dentist':11 'fight':...\n",
      "153      444              Hustler Party  A Emotional Reflection of a Sumo Wrestler And ...          2006            1                3         4.99      83             22.99  NC-17  2013-05-26 14:50:58.951        {Trailers,Commentaries,\"Behind the Scenes\"}  'conquer':15 'desert':21 'emot':4 'hustler':1 ...\n",
      "154      446           Hysterical Grail  A Amazing Saga of a Madman And a Dentist who m...          2006            1                5         4.99     150             19.99     PG  2013-05-26 14:50:58.951           {Trailers,Commentaries,\"Deleted Scenes\"}  'amaz':4 'build':14 'car':16 'dentist':11 'gra...\n",
      "155      451                 Igby Maker  A Epic Documentary of a Hunter And a Dog who m...          2006            1                7         4.99     160             12.99  NC-17  2013-05-26 14:50:58.951                     {Trailers,\"Behind the Scenes\"}  'baloon':19 'documentari':5 'dog':11,16 'epic'...\n",
      "156      455       Impossible Prejudice  A Awe-Inspiring Yarn of a Monkey And a Hunter ...          2006            1                7         4.99     103             11.99  NC-17  2013-05-26 14:50:58.951                                 {\"Deleted Scenes\"}  'ancient':20 'awe':5 'awe-inspir':4 'chase':16...\n",
      "157      456                   Inch Jet  A Fateful Saga of a Womanizer And a Student wh...          2006            1                6         4.99     167             18.99  NC-17  2013-05-26 14:50:58.951                                 {\"Deleted Scenes\"}  'butler':16 'defeat':14 'fate':4 'inch':1 'jet...\n",
      "158      459            Informer Double  A Action-Packed Display of a Woman And a Denti...          2006            1                4         4.99      74             23.99  NC-17  2013-05-26 14:50:58.951                            {Trailers,Commentaries}  'action':5 'action-pack':4 'canadian':22 'dent...\n",
      "159      460             Innocent Usual  A Beautiful Drama of a Pioneer And a Crocodile...          2006            1                3         4.99     178             26.99  PG-13  2013-05-26 14:50:58.951    {Trailers,\"Deleted Scenes\",\"Behind the Scenes\"}  'beauti':4 'challeng':14 'crocodil':11 'drama'...\n",
      "160      465         Interview Liaisons  A Action-Packed Reflection of a Student And a ...          2006            1                4         4.99      59             17.99      R  2013-05-26 14:50:58.951                 {Commentaries,\"Behind the Scenes\"}  'action':5 'action-pack':4 'administr':19 'but...\n",
      "161      466     Intolerable Intentions  A Awe-Inspiring Story of a Monkey And a Pastry...          2006            1                6         4.99      63             20.99  PG-13  2013-05-26 14:50:58.951                 {Commentaries,\"Behind the Scenes\"}  'awe':5 'awe-inspir':4 'chef':14 'convent':23 ...\n",
      "162      469                  Iron Moon  A Fast-Paced Documentary of a Mad Cow And a Bo...          2006            1                7         4.99      46             27.99     PG  2013-05-26 14:50:58.951                 {Commentaries,\"Behind the Scenes\"}  'baloon':22 'boy':14 'cow':11 'dentist':19 'do...\n",
      "163      470           Ishtar Rocketeer  A Astounding Saga of a Dog And a Squirrel who ...          2006            1                4         4.99      79             24.99      R  2013-05-26 14:50:58.951           {Trailers,Commentaries,\"Deleted Scenes\"}  'abandon':19 'astound':4 'conquer':14 'dog':8,...\n",
      "164      472            Italian African  A Astounding Character Study of a Monkey And a...          2006            1                3         4.99     174             24.99      G  2013-05-26 14:50:58.951           {Trailers,Commentaries,\"Deleted Scenes\"}  'african':2 'astound':4 'boat':22 'cat':17 'ch...\n",
      "165      485               Jersey Sassy  A Lacklusture Documentary of a Madman And a Ma...          2006            1                6         4.99      60             16.99     PG  2013-05-26 14:50:58.951             {\"Deleted Scenes\",\"Behind the Scenes\"}  'ancient':19 'cow':12 'documentari':5 'feminis...\n",
      "166      486              Jet Neighbors  A Amazing Display of a Lumberjack And a Teache...          2006            1                7         4.99      59             14.99      R  2013-05-26 14:50:58.951        {Trailers,Commentaries,\"Behind the Scenes\"}  'amaz':4 'boat':21 'display':5 'jet':1 'lumber...\n",
      "167      487           Jingle Sagebrush  A Epic Character Study of a Feminist And a Stu...          2006            1                6         4.99     124             29.99  PG-13  2013-05-26 14:50:58.951                            {Trailers,Commentaries}  'baloon':20 'charact':5 'epic':4 'feminist':9 ...\n",
      "168      499             King Evolution  A Action-Packed Tale of a Boy And a Lumberjack...          2006            1                3         4.99     184             24.99  NC-17  2013-05-26 14:50:58.951    {Trailers,\"Deleted Scenes\",\"Behind the Scenes\"}  'action':5 'action-pack':4 'baloon':21 'boy':1...\n",
      "169      500                 Kiss Glory  A Lacklusture Reflection of a Girl And a Husba...          2006            1                5         4.99     163             11.99  PG-13  2013-05-26 14:50:58.951        {Trailers,Commentaries,\"Behind the Scenes\"}  'canadian':19 'find':14 'girl':8 'glori':2 'hu...\n",
      "170      501              Kissing Dolls  A Insightful Reflection of a Pioneer And a Tea...          2006            1                3         4.99     141              9.99      R  2013-05-26 14:50:58.951                                         {Trailers}  'build':14 'compos':16 'doll':2 'first':19 'in...\n",
      "171      506                 Lady Stage  A Beautiful Character Study of a Woman And a M...          2006            1                4         4.99      67             14.99     PG  2013-05-26 14:50:58.951    {Trailers,\"Deleted Scenes\",\"Behind the Scenes\"}  'beauti':4 'boat':22 'charact':5 'explor':17 '...\n",
      "172      508           Lambs Cincinatti  A Insightful Story of a Man And a Feminist who...          2006            1                6         4.99     144             18.99  PG-13  2013-05-26 14:50:58.951                     {Trailers,\"Behind the Scenes\"}  'australia':18 'cincinatti':2 'compos':16 'fem...\n",
      "173      510             Lawless Vision  A Insightful Yarn of a Boy And a Sumo Wrestler...          2006            1                6         4.99     181             29.99      G  2013-05-26 14:50:58.951             {\"Deleted Scenes\",\"Behind the Scenes\"}  'boy':8 'car':17 'insight':4 'lawless':1 'must...\n",
      "174      512        League Hellfighters  A Thoughtful Saga of a A Shark And a Monkey wh...          2006            1                5         4.99     110             25.99  PG-13  2013-05-26 14:50:58.951                                         {Trailers}  'ancient':19 'china':20 'hellfight':2 'leagu':...\n",
      "175      515          Legally Secretary  A Astounding Tale of a A Shark And a Moose who...          2006            1                7         4.99     113             14.99     PG  2013-05-26 14:50:58.951        {Trailers,Commentaries,\"Behind the Scenes\"}  'astound':4 'desert':21 'legal':1 'meet':15 'm...\n",
      "176      518             Liaisons Sweet  A Boring Drama of a A Shark And a Explorer who...          2006            1                5         4.99     140             15.99     PG  2013-05-26 14:50:58.951                 {Commentaries,\"Behind the Scenes\"}  'bore':4 'canadian':20 'drama':5 'explor':12 '...\n",
      "177      521             Lies Treatment  A Fast-Paced Character Study of a Dentist And ...          2006            1                7         4.99     147             28.99  NC-17  2013-05-26 14:50:58.951  {Commentaries,\"Deleted Scenes\",\"Behind the Sce...  'charact':7 'compos':19 'defeat':17 'dentist':...\n",
      "178      527                 Lola Agent  A Astounding Tale of a Mad Scientist And a Hus...          2006            1                4         4.99      85             24.99     PG  2013-05-26 14:50:58.951                            {Trailers,Commentaries}  'administr':18 'agent':2 'ancient':20 'astound...\n",
      "179      532              Loser Hustler  A Stunning Drama of a Robot And a Feminist who...          2006            1                5         4.99      80             28.99     PG  2013-05-26 14:50:58.951             {\"Deleted Scenes\",\"Behind the Scenes\"}  'butler':16 'drama':5 'feminist':11 'hustler':...\n",
      "180      543             Madigan Dorado  A Astounding Character Study of a A Shark And ...          2006            1                5         4.99     116             20.99      R  2013-05-26 14:50:58.951             {\"Deleted Scenes\",\"Behind the Scenes\"}  'astound':4 'charact':5 'crocodil':19 'discov'...\n",
      "181      551                Maiden Home  A Lacklusture Saga of a Moose And a Teacher wh...          2006            1                3         4.99     138              9.99     PG  2013-05-26 14:50:58.951                              {\"Behind the Scenes\"}  'convent':21 'forens':16 'home':2 'kill':14 'l...\n",
      "182      556               Maltese Hope  A Fast-Paced Documentary of a Crocodile And a ...          2006            1                6         4.99     127             26.99  PG-13  2013-05-26 14:50:58.951                              {\"Behind the Scenes\"}  'california':21 'conquer':17 'crocodil':10 'do...\n",
      "183      563             Massacre Usual  A Fateful Reflection of a Waitress And a Croco...          2006            1                6         4.99     165             16.99      R  2013-05-26 14:50:58.951                                     {Commentaries}  'california':19 'challeng':14 'crocodil':11 'f...\n",
      "184      565             Matrix Snowman  A Action-Packed Saga of a Womanizer And a Woma...          2006            1                6         4.99      56              9.99  PG-13  2013-05-26 14:50:58.951  {Commentaries,\"Deleted Scenes\",\"Behind the Sce...  'action':5 'action-pack':4 'california':20 'ma...\n",
      "185      568          Memento Zoolander  A Touching Epistle of a Squirrel And a Explore...          2006            1                4         4.99      77             11.99  NC-17  2013-05-26 14:50:58.951                              {\"Behind the Scenes\"}  'chef':17 'desert':21 'epistl':5 'explor':11 '...\n",
      "186      570            Mermaid Insects  A Lacklusture Drama of a Waitress And a Husban...          2006            1                5         4.99     104             20.99  NC-17  2013-05-26 14:50:58.951                     {Trailers,\"Behind the Scenes\"}  'california':18 'drama':5 'fight':14 'husband'...\n",
      "187      575        Midsummer Groundhog  A Fateful Panorama of a Moose And a Dog who mu...          2006            1                3         4.99      48             27.99      G  2013-05-26 14:50:58.951                        {Trailers,\"Deleted Scenes\"}  'ancient':18 'chase':14 'crocodil':16 'dog':11...\n",
      "188      578                Million Ace  A Brilliant Documentary of a Womanizer And a S...          2006            1                4         4.99     142             16.99  PG-13  2013-05-26 14:50:58.951                                 {\"Deleted Scenes\"}  'ace':2 'brilliant':4 'desert':21 'documentari...\n",
      "189      579               Minds Truman  A Taut Yarn of a Mad Scientist And a Crocodile...          2006            1                3         4.99     149             22.99  PG-13  2013-05-26 14:50:58.951             {\"Deleted Scenes\",\"Behind the Scenes\"}  'administr':18 'crocodil':12 'databas':17 'mad...\n",
      "190      580                Mine Titans  A Amazing Yarn of a Robot And a Womanizer who ...          2006            1                3         4.99     166             12.99  PG-13  2013-05-26 14:50:58.951                        {Trailers,\"Deleted Scenes\"}  'amaz':4 'berlin':19 'discov':14 'forens':16 '...\n",
      "191      583          Mission Zoolander  A Intrepid Story of a Sumo Wrestler And a Teac...          2006            1                3         4.99     164             26.99  PG-13  2013-05-26 14:50:58.951                              {\"Behind the Scenes\"}  'abandon':21 'fun':22 'hous':23 'intrepid':4 '...\n",
      "192      587              Mod Secretary  A Boring Documentary of a Mad Cow And a Cat wh...          2006            1                6         4.99      77             20.99  NC-17  2013-05-26 14:50:58.951                 {Commentaries,\"Behind the Scenes\"}  'bore':4 'build':15 'cat':12 'cow':9 'document...\n",
      "193      588                 Model Fish  A Beautiful Panorama of a Boat And a Crocodile...          2006            1                4         4.99     175             11.99  NC-17  2013-05-26 14:50:58.951        {Trailers,Commentaries,\"Behind the Scenes\"}  'australia':18 'beauti':4 'boat':8 'crocodil':...\n",
      "194      591              Monsoon Cause  A Astounding Tale of a Crocodile And a Car who...          2006            1                6         4.99     182             20.99     PG  2013-05-26 14:50:58.951                 {Commentaries,\"Behind the Scenes\"}  'astound':4 'boat':21 'car':11 'caus':2 'croco...\n",
      "195      596            Moonshine Cabin  A Thoughtful Display of a Astronaut And a Femi...          2006            1                4         4.99     171             25.99  PG-13  2013-05-26 14:50:58.951                              {\"Behind the Scenes\"}  'astronaut':8 'boat':20 'cabin':2 'chase':14 '...\n",
      "196      597            Moonwalker Fool  A Epic Drama of a Feminist And a Pioneer who m...          2006            1                5         4.99     184             12.99      G  2013-05-26 14:50:58.951                        {Trailers,\"Deleted Scenes\"}  'compos':16 'drama':5 'epic':4 'feminist':8 'f...\n",
      "197      603          Movie Shakespeare  A Insightful Display of a Database Administrat...          2006            1                6         4.99      53             27.99     PG  2013-05-26 14:50:58.951  {Commentaries,\"Deleted Scenes\",\"Behind the Sce...  'administr':9 'berlin':19 'build':15 'databas'...\n",
      "198      607                Muppet Mile  A Lacklusture Story of a Madman And a Teacher ...          2006            1                5         4.99      50             18.99     PG  2013-05-26 14:50:58.951                        {Trailers,\"Deleted Scenes\"}  'frisbe':16 'gulf':19 'kill':14 'lacklustur':4...\n",
      "199      611            Musketeers Wait  A Touching Yarn of a Student And a Moose who m...          2006            1                7         4.99      73             17.99     PG  2013-05-26 14:50:58.951             {\"Deleted Scenes\",\"Behind the Scenes\"}  'australia':19 'cow':17 'fight':14 'mad':16 'm...\n",
      "200      614             Name Detective  A Touching Saga of a Sumo Wrestler And a Cat w...          2006            1                5         4.99     178             11.99  PG-13  2013-05-26 14:50:58.951        {Trailers,Commentaries,\"Behind the Scenes\"}  'cat':12 'detect':2 'mad':17 'must':14 'name':...\n",
      "201      624            Nightmare Chill  A Brilliant Display of a Robot And a Butler wh...          2006            1                3         4.99     149             25.99     PG  2013-05-26 14:50:58.951    {Trailers,\"Deleted Scenes\",\"Behind the Scenes\"}  'abandon':19 'brilliant':4 'butler':11 'chill'...\n",
      "202      627              North Tequila  A Beautiful Character Study of a Mad Cow And a...          2006            1                4         4.99      67              9.99  NC-17  2013-05-26 14:50:58.951  {Commentaries,\"Deleted Scenes\",\"Behind the Sce...  'beauti':4 'charact':5 'cow':10 'mad':9 'must'...\n",
      "203      632                  Nuts Ties  A Thoughtful Drama of a Explorer And a Womaniz...          2006            1                5         4.99     145             10.99  NC-17  2013-05-26 14:50:58.951                     {Trailers,\"Behind the Scenes\"}  'california':18 'drama':5 'explor':8 'meet':14...\n",
      "204      633          October Submarine  A Taut Epistle of a Monkey And a Boy who must ...          2006            1                6         4.99      54             10.99  PG-13  2013-05-26 14:50:58.951        {Trailers,Commentaries,\"Behind the Scenes\"}  'boat':20 'boy':11 'confront':14 'epistl':5 'h...\n",
      "205      637               Open African  A Lacklusture Drama of a Secret Agent And a Ex...          2006            1                7         4.99     131             16.99     PG  2013-05-26 14:50:58.951                            {Trailers,Commentaries}  'african':2 'agent':9 'boat':22 'car':17 'disc...\n",
      "206      639          Opposite Necklace  A Fateful Epistle of a Crocodile And a Moose w...          2006            1                7         4.99      92              9.99     PG  2013-05-26 14:50:58.951                                 {\"Deleted Scenes\"}  'crocodil':8 'epistl':5 'explor':16 'fate':4 '...\n",
      "207      640                   Opus Ice  A Fast-Paced Drama of a Hunter And a Boy who m...          2006            1                5         4.99     102             21.99      R  2013-05-26 14:50:58.951                    {Commentaries,\"Deleted Scenes\"}  'boy':13 'desert':22 'discov':16 'drama':7 'fa...\n",
      "208      648               Outlaw Hanky  A Thoughtful Story of a Astronaut And a Compos...          2006            1                7         4.99     148             17.99  PG-13  2013-05-26 14:50:58.951                            {Trailers,Commentaries}  'astronaut':8 'compos':11 'conquer':14 'desert...\n",
      "209      653                 Panic Club  A Fanciful Display of a Teacher And a Crocodil...          2006            1                3         4.99     102             15.99      G  2013-05-26 14:50:58.951                    {Commentaries,\"Deleted Scenes\"}  'baloon':19 'club':2 'crocodil':11 'display':5...\n",
      "210      654            Panky Submarine  A Touching Documentary of a Dentist And a Sumo...          2006            1                4         4.99      93             19.99      G  2013-05-26 14:50:58.951  {Trailers,Commentaries,\"Deleted Scenes\",\"Behin...  'boy':17 'dentist':8 'documentari':5 'gulf':20...\n",
      "211      655               Panther Reds  A Brilliant Panorama of a Moose And a Man who ...          2006            1                5         4.99     109             22.99  NC-17  2013-05-26 14:50:58.951             {\"Deleted Scenes\",\"Behind the Scenes\"}  'brilliant':4 'gulf':19 'man':11 'mexico':21 '...\n",
      "212      659               Park Citizen  A Taut Epistle of a Sumo Wrestler And a Girl w...          2006            1                3         4.99     109             14.99  PG-13  2013-05-26 14:50:58.951                        {Trailers,\"Deleted Scenes\"}  'ancient':19 'citizen':2 'epistl':5 'face':15 ...\n",
      "213      661              Past Suicides  A Intrepid Tale of a Madman And a Astronaut wh...          2006            1                5         4.99     157             17.99  PG-13  2013-05-26 14:50:58.951    {Trailers,\"Deleted Scenes\",\"Behind the Scenes\"}  'astronaut':11 'challeng':14 'hunter':16 'intr...\n",
      "214      662              Paths Control  A Astounding Documentary of a Butler And a Cat...          2006            1                3         4.99     118              9.99     PG  2013-05-26 14:50:58.951                     {Trailers,\"Behind the Scenes\"}  'ancient':18 'astound':4 'butler':8 'cat':11 '...\n",
      "215      666              Paycheck Wait  A Awe-Inspiring Reflection of a Boy And a Man ...          2006            1                4         4.99     145             27.99  PG-13  2013-05-26 14:50:58.951                    {Commentaries,\"Deleted Scenes\"}  'awe':5 'awe-inspir':4 'boy':10 'desert':22 'd...\n",
      "216      668               Peak Forever  A Insightful Reflection of a Boat And a Secret...          2006            1                7         4.99      80             25.99     PG  2013-05-26 14:50:58.951  {Trailers,Commentaries,\"Deleted Scenes\",\"Behin...  'abandon':20 'agent':12 'astronaut':17 'boat':...\n",
      "217      670           Pelican Comforts  A Epic Documentary of a Boy And a Monkey who m...          2006            1                4         4.99      48             17.99     PG  2013-05-26 14:50:58.951                    {Commentaries,\"Deleted Scenes\"}  'astronaut':16 'berlin':18 'boy':8 'comfort':2...\n",
      "218      671            Perdition Fargo  A Fast-Paced Story of a Car And a Cat who must...          2006            1                7         4.99      99             27.99  NC-17  2013-05-26 14:50:58.951                     {Trailers,\"Behind the Scenes\"}  'berlin':20 'car':10 'cat':13 'fargo':2 'fast'...\n",
      "219      676          Philadelphia Wife  A Taut Yarn of a Hunter And a Astronaut who mu...          2006            1                7         4.99     137             16.99  PG-13  2013-05-26 14:50:58.951           {Trailers,Commentaries,\"Deleted Scenes\"}  'administr':17 'astronaut':11 'conquer':14 'da...\n",
      "220      680            Pinocchio Simon  A Action-Packed Reflection of a Mad Scientist ...          2006            1                4         4.99     103             21.99     PG  2013-05-26 14:50:58.951                 {Commentaries,\"Behind the Scenes\"}  'action':5 'action-pack':4 'california':22 'fe...\n",
      "221      682       Pittsburgh Hunchback  A Thrilling Epistle of a Boy And a Boat who mu...          2006            1                4         4.99     134             17.99  PG-13  2013-05-26 14:50:58.951    {Trailers,\"Deleted Scenes\",\"Behind the Scenes\"}  'boat':11 'boy':8 'epistl':5 'find':14 'georgi...\n",
      "222      683                 Pity Bound  A Boring Panorama of a Feminist And a Moose wh...          2006            1                5         4.99      60             19.99  NC-17  2013-05-26 14:50:58.951                                     {Commentaries}  'administr':17 'bore':4 'bound':2 'databas':16...\n",
      "223      685           Platoon Instinct  A Thrilling Panorama of a Man And a Woman who ...          2006            1                6         4.99     132             10.99  PG-13  2013-05-26 14:50:58.951                            {Trailers,Commentaries}  'australia':18 'instinct':2 'man':8 'must':13 ...\n",
      "224      686             Pluto Oleander  A Action-Packed Reflection of a Car And a Moos...          2006            1                5         4.99      84              9.99      R  2013-05-26 14:50:58.951                              {\"Behind the Scenes\"}  'action':5 'action-pack':4 'car':10,18 'moos':...\n",
      "225      691           Poseidon Forever  A Thoughtful Epistle of a Womanizer And a Monk...          2006            1                6         4.99     159             29.99  PG-13  2013-05-26 14:50:58.951                                     {Commentaries}  'dentist':16 'epistl':5 'forev':2 'monasteri':...\n",
      "226      694         Prejudice Oleander  A Epic Saga of a Boy And a Dentist who must Ou...          2006            1                6         4.99      98             15.99  PG-13  2013-05-26 14:50:58.951           {Trailers,Commentaries,\"Deleted Scenes\"}  'boat':21 'boy':8 'dentist':11 'epic':4 'madma...\n",
      "227      695             President Bang  A Fateful Panorama of a Technical Writer And a...          2006            1                6         4.99     144             12.99     PG  2013-05-26 14:50:58.951                              {\"Behind the Scenes\"}  'bang':2 'battl':15 'fate':4 'georgia':20 'moo...\n",
      "228      699               Private Drop  A Stunning Story of a Technical Writer And a H...          2006            1                7         4.99     106             26.99     PG  2013-05-26 14:50:58.951                                         {Trailers}  'agent':18 'baloon':21 'drop':2 'hunter':12 'm...\n",
      "229      703               Punk Divorce  A Fast-Paced Tale of a Pastry Chef And a Boat ...          2006            1                6         4.99     100             18.99     PG  2013-05-26 14:50:58.951           {Trailers,Commentaries,\"Deleted Scenes\"}  'boat':14 'canadian':22 'chef':11 'divorc':2 '...\n",
      "230      706                 Queen Luke  A Astounding Story of a Girl And a Boy who mus...          2006            1                5         4.99     163             22.99     PG  2013-05-26 14:50:58.951  {Commentaries,\"Deleted Scenes\",\"Behind the Sce...  'astound':4 'boy':11 'challeng':14 'compos':16...\n",
      "231      708                Quills Bull  A Thoughtful Story of a Pioneer And a Woman wh...          2006            1                4         4.99     112             19.99      R  2013-05-26 14:50:58.951                     {Trailers,\"Behind the Scenes\"}  'australia':18 'bull':2 'moos':16 'must':13 'p...\n",
      "232      710                 Rage Games  A Fast-Paced Saga of a Astronaut And a Secret ...          2006            1                4         4.99     120             18.99      R  2013-05-26 14:50:58.951                     {Trailers,\"Behind the Scenes\"}  'abandon':22 'agent':14 'amus':23 'astronaut':...\n",
      "233      711            Raging Airplane  A Astounding Display of a Secret Agent And a T...          2006            1                4         4.99     154             18.99      R  2013-05-26 14:50:58.951                    {Commentaries,\"Deleted Scenes\"}  'agent':9 'airplan':2 'astound':4 'boat':23 'd...\n",
      "234      713              Rainbow Shock  A Action-Packed Story of a Hunter And a Boy wh...          2006            1                3         4.99      74             14.99     PG  2013-05-26 14:50:58.951  {Trailers,Commentaries,\"Deleted Scenes\",\"Behin...  'action':5 'action-pack':4 'ancient':20 'boy':...\n",
      "235      715           Range Moonwalker  A Insightful Documentary of a Hunter And a Den...          2006            1                3         4.99     147             25.99     PG  2013-05-26 14:50:58.951           {Trailers,Commentaries,\"Deleted Scenes\"}  'baloon':19 'confront':14 'crocodil':16 'denti...\n",
      "236      719              Records Zorro  A Amazing Drama of a Mad Scientist And a Compo...          2006            1                7         4.99     182             11.99     PG  2013-05-26 14:50:58.951                              {\"Behind the Scenes\"}  'amaz':4 'build':15 'compos':12 'drama':5 'hus...\n",
      "237      721                 Reds Pocus  A Lacklusture Yarn of a Sumo Wrestler And a Sq...          2006            1                7         4.99     182             23.99  PG-13  2013-05-26 14:50:58.951                     {Trailers,\"Behind the Scenes\"}  'georgia':20 'lacklustur':4 'monkey':17 'must'...\n",
      "238      725             Requiem Tycoon  A Unbelieveable Character Study of a Cat And a...          2006            1                6         4.99     167             25.99      R  2013-05-26 14:50:58.951        {Trailers,Commentaries,\"Behind the Scenes\"}  'administr':13 'cat':9 'charact':5 'databas':1...\n",
      "239      731               Right Cranes  A Fateful Character Study of a Boat And a Cat ...          2006            1                7         4.99     153             29.99  PG-13  2013-05-26 14:50:58.951           {Trailers,Commentaries,\"Deleted Scenes\"}  'administr':18 'boat':9,22 'cat':12 'charact':...\n",
      "240      734               Road Roxanne  A Boring Character Study of a Waitress And a A...          2006            1                4         4.99     158             12.99      R  2013-05-26 14:50:58.951                              {\"Behind the Scenes\"}  'ancient':19 'astronaut':12 'bore':4 'charact'...\n",
      "241      739                  Rocky War  A Fast-Paced Display of a Squirrel And a Explo...          2006            1                4         4.99     145             17.99  PG-13  2013-05-26 14:50:58.951        {Trailers,Commentaries,\"Behind the Scenes\"}  'display':7 'explor':13 'fast':5 'fast-pac':4 ...\n",
      "242      745             Roses Treasure  A Astounding Panorama of a Monkey And a Secret...          2006            1                5         4.99     162             23.99  PG-13  2013-05-26 14:50:58.951  {Commentaries,\"Deleted Scenes\",\"Behind the Sce...  'agent':12 'astound':4 'defeat':15 'first':20 ...\n",
      "243      749                Rules Human  A Beautiful Epistle of a Astronaut And a Stude...          2006            1                6         4.99     153             19.99      R  2013-05-26 14:50:58.951             {\"Deleted Scenes\",\"Behind the Scenes\"}  'abandon':19 'astronaut':8 'beauti':4 'confron...\n",
      "244      755           Sabrina Midnight  A Emotional Story of a Squirrel And a Crocodil...          2006            1                5         4.99      99             11.99     PG  2013-05-26 14:50:58.951                     {Trailers,\"Behind the Scenes\"}  'crocodil':11 'desert':20 'emot':4 'husband':1...\n",
      "245      763  Satisfaction Confidential  A Lacklusture Yarn of a Dentist And a Butler w...          2006            1                3         4.99      75             26.99      G  2013-05-26 14:50:58.951  {Commentaries,\"Deleted Scenes\",\"Behind the Sce...  'agent':17 'ancient':19 'butler':11 'china':20...\n",
      "246      764             Saturday Lambs  A Thoughtful Reflection of a Mad Scientist And...          2006            1                3         4.99     150             28.99      G  2013-05-26 14:50:58.951                    {Commentaries,\"Deleted Scenes\"}  'baloon':20 'husband':17 'kill':15 'lamb':2 'm...\n",
      "247      765                Saturn Name  A Fateful Epistle of a Butler And a Boy who mu...          2006            1                7         4.99     182             18.99      R  2013-05-26 14:50:58.951  {Trailers,Commentaries,\"Deleted Scenes\",\"Behin...  'berlin':18 'boy':11 'butler':8 'epistl':5 'fa...\n",
      "248      767              Scalawag Duck  A Fateful Reflection of a Car And a Teacher wh...          2006            1                6         4.99     183             13.99  NC-17  2013-05-26 14:50:58.951                 {Commentaries,\"Behind the Scenes\"}  'car':8 'confront':14 'duck':2 'fate':4 'monas...\n",
      "249      768              Scarface Bang  A Emotional Yarn of a Teacher And a Girl who m...          2006            1                3         4.99     102             11.99  PG-13  2013-05-26 14:50:58.951                    {Commentaries,\"Deleted Scenes\"}  'baloon':19 'bang':2 'emot':4 'factori':20 'fi...\n",
      "250      769              School Jacket  A Intrepid Yarn of a Monkey And a Boy who must...          2006            1                5         4.99     151             21.99  PG-13  2013-05-26 14:50:58.951                                         {Trailers}  'boy':11 'compos':16 'fight':14 'intrepid':4 '...\n",
      "251      771            Scorpion Apollo  A Awe-Inspiring Documentary of a Technical Wri...          2006            1                3         4.99     137             23.99  NC-17  2013-05-26 14:50:58.951                    {Commentaries,\"Deleted Scenes\"}  'abandon':22 'apollo':2 'awe':5 'awe-inspir':4...\n",
      "252      775        Seattle Expecations  A Insightful Reflection of a Crocodile And a S...          2006            1                4         4.99     110             18.99  PG-13  2013-05-26 14:50:58.951                                         {Trailers}  'crocodil':8 'desert':22 'expec':2 'insight':4...\n",
      "253      776           Secret Groundhog  A Astounding Story of a Cat And a Database Adm...          2006            1                6         4.99      90             11.99     PG  2013-05-26 14:50:58.951                    {Commentaries,\"Deleted Scenes\"}  'administr':12 'astound':4 'build':15 'cat':8 ...\n",
      "254      777            Secretary Rouge  A Action-Packed Panorama of a Mad Cow And a Co...          2006            1                5         4.99     158             10.99     PG  2013-05-26 14:50:58.951                 {Commentaries,\"Behind the Scenes\"}  'action':5 'action-pack':4 'baloon':22 'compos...\n",
      "255      778           Secrets Paradise  A Fateful Saga of a Cat And a Frisbee who must...          2006            1                3         4.99     109             24.99      G  2013-05-26 14:50:58.951                            {Trailers,Commentaries}  'cat':8 'fate':4 'frisbe':11 'girl':16 'kill':...\n",
      "256      779                Sense Greek  A Taut Saga of a Lumberjack And a Pastry Chef ...          2006            1                4         4.99      54             23.99      R  2013-05-26 14:50:58.951             {\"Deleted Scenes\",\"Behind the Scenes\"}  'abandon':21 'chef':12 'escap':15 'fun':22 'gr...\n",
      "257      780           Sensibility Rear  A Emotional Tale of a Robot And a Sumo Wrestle...          2006            1                7         4.99      98             15.99     PG  2013-05-26 14:50:58.951                              {\"Behind the Scenes\"}  'baloon':21 'chef':18 'emot':4 'factori':22 'm...\n",
      "258      781                Seven Swarm  A Unbelieveable Character Study of a Dog And a...          2006            1                4         4.99     127             15.99      R  2013-05-26 14:50:58.951                                 {\"Deleted Scenes\"}  'berlin':20 'charact':5 'cow':13 'dog':9 'kill...\n",
      "259      785           Shawshank Bubble  A Lacklusture Story of a Moose And a Monkey wh...          2006            1                6         4.99      80             20.99     PG  2013-05-26 14:50:58.951                    {Commentaries,\"Deleted Scenes\"}  'abandon':19 'amus':20 'bubbl':2 'butler':16 '...\n",
      "260      791                  Show Lord  A Fanciful Saga of a Student And a Girl who mu...          2006            1                3         4.99     167             24.99  PG-13  2013-05-26 14:50:58.951                                 {\"Deleted Scenes\"}  'ancient':18 'butler':16 'fanci':4 'find':14 '...\n",
      "261      798       Silverado Goldfinger  A Stunning Epistle of a Sumo Wrestler And a Ma...          2006            1                4         4.99      74             11.99     PG  2013-05-26 14:50:58.951                            {Trailers,Commentaries}  'ancient':19 'challeng':15 'epistl':5 'goldfin...\n",
      "262      801              Sister Freddy  A Stunning Saga of a Butler And a Woman who mu...          2006            1                5         4.99     152             19.99  PG-13  2013-05-26 14:50:58.951                     {Trailers,\"Behind the Scenes\"}  'australia':18 'butler':8 'explor':16 'freddi'...\n",
      "263      803           Slacker Liaisons  A Fast-Paced Tale of a A Shark And a Student w...          2006            1                7         4.99     179             29.99      R  2013-05-26 14:50:58.951        {Trailers,Commentaries,\"Behind the Scenes\"}  'ancient':21 'china':22 'crocodil':19 'fast':5...\n",
      "264      804          Sleeping Suspects  A Stunning Reflection of a Sumo Wrestler And a...          2006            1                7         4.99     129             13.99  PG-13  2013-05-26 14:50:58.951                            {Trailers,Commentaries}  'convent':21 'explor':12 'frisbe':17 'must':14...\n",
      "265      805          Sleepless Monsoon  A Amazing Saga of a Moose And a Pastry Chef wh...          2006            1                5         4.99      64             12.99      G  2013-05-26 14:50:58.951    {Trailers,\"Deleted Scenes\",\"Behind the Scenes\"}  'amaz':4 'australia':19 'butler':17 'chef':12 ...\n",
      "266      814             Snatch Slipper  A Insightful Panorama of a Woman And a Feminis...          2006            1                6         4.99     110             15.99     PG  2013-05-26 14:50:58.951                                     {Commentaries}  'berlin':19 'defeat':14 'feminist':11 'forens'...\n",
      "267      817         Soldiers Evolution  A Lacklusture Panorama of a A Shark And a Pion...          2006            1                7         4.99     185             27.99      R  2013-05-26 14:50:58.951  {Trailers,Commentaries,\"Deleted Scenes\",\"Behin...  'confront':15 'evolut':2 'first':20 'lacklustu...\n",
      "268      818             Something Duck  A Boring Character Study of a Car And a Husban...          2006            1                4         4.99     180             17.99  NC-17  2013-05-26 14:50:58.951                 {Commentaries,\"Behind the Scenes\"}  'bore':4 'car':9 'charact':5 'duck':2 'first':...\n",
      "269      824          Spartacus Cheaper  A Thrilling Panorama of a Pastry Chef And a Se...          2006            1                4         4.99      52             19.99  NC-17  2013-05-26 14:50:58.951             {\"Deleted Scenes\",\"Behind the Scenes\"}  'agent':13 'cheaper':2 'chef':9 'manhattan':21...\n",
      "270      826                 Speed Suit  A Brilliant Display of a Frisbee And a Mad Sci...          2006            1                7         4.99     124             19.99  PG-13  2013-05-26 14:50:58.951                 {Commentaries,\"Behind the Scenes\"}  'ancient':19 'brilliant':4 'china':20 'display...\n",
      "271      827             Spice Sorority  A Fateful Display of a Pioneer And a Hunter wh...          2006            1                5         4.99     141             22.99  NC-17  2013-05-26 14:50:58.951  {Trailers,Commentaries,\"Deleted Scenes\",\"Behin...  'abandon':19 'defeat':14 'display':5 'fate':4 ...\n",
      "272      838      Stagecoach Armageddon  A Touching Display of a Pioneer And a Butler w...          2006            1                5         4.99     112             25.99      R  2013-05-26 14:50:58.951                        {Trailers,\"Deleted Scenes\"}  'armageddon':2 'butler':11 'california':18 'ca...\n",
      "273      843                Steel Santa  A Fast-Paced Yarn of a Composer And a Frisbee ...          2006            1                4         4.99     143             15.99  NC-17  2013-05-26 14:50:58.951                    {Commentaries,\"Deleted Scenes\"}  'compos':10 'face':16 'fast':5 'fast-pac':4 'f...\n",
      "274      844          Steers Armageddon  A Stunning Character Study of a Car And a Girl...          2006            1                6         4.99     140             16.99     PG  2013-05-26 14:50:58.951  {Trailers,Commentaries,\"Deleted Scenes\",\"Behin...  'armageddon':2 'car':9,17 'charact':5 'convent...\n",
      "275      845              Stepmom Dream  A Touching Epistle of a Crocodile And a Teache...          2006            1                7         4.99      48              9.99  NC-17  2013-05-26 14:50:58.951             {\"Deleted Scenes\",\"Behind the Scenes\"}  'build':14 'convent':21 'crocodil':8 'dream':2...\n",
      "276      846             Sting Personal  A Fanciful Drama of a Frisbee And a Dog who mu...          2006            1                3         4.99      93              9.99  NC-17  2013-05-26 14:50:58.951  {Commentaries,\"Deleted Scenes\",\"Behind the Sce...  'boat':20 'dog':11 'drama':5 'fanci':4 'fight'...\n",
      "277      853         Stranger Strangers  A Awe-Inspiring Yarn of a Womanizer And a Expl...          2006            1                3         4.99     139             12.99      G  2013-05-26 14:50:58.951                    {Commentaries,\"Deleted Scenes\"}  'awe':5 'awe-inspir':4 'explor':13 'fight':16 ...\n",
      "278      854         Strangers Graffiti  A Brilliant Character Study of a Secret Agent ...          2006            1                4         4.99     119             22.99      R  2013-05-26 14:50:58.951                     {Trailers,\"Behind the Scenes\"}  'agent':10 'brilliant':4 'cat':18 'charact':5 ...\n",
      "279      856       Streetcar Intentions  A Insightful Character Study of a Waitress And...          2006            1                5         4.99      73             11.99      R  2013-05-26 14:50:58.951                                     {Commentaries}  'charact':5 'crocodil':12 'gulf':20 'insight':...\n",
      "280      858              Submarine Bed  A Amazing Display of a Car And a Monkey who mu...          2006            1                5         4.99     127             21.99      R  2013-05-26 14:50:58.951                                         {Trailers}  'amaz':4 'bed':2 'car':8 'display':5 'fight':1...\n",
      "281      859                Sugar Wonka  A Touching Story of a Dentist And a Database A...          2006            1                3         4.99     114             20.99     PG  2013-05-26 14:50:58.951        {Trailers,Commentaries,\"Behind the Scenes\"}  'abandon':20 'administr':12 'amus':21 'astrona...\n",
      "282      860           Suicides Silence  A Emotional Character Study of a Car And a Gir...          2006            1                4         4.99      93             13.99      G  2013-05-26 14:50:58.951                                 {\"Deleted Scenes\"}  'boat':22 'car':9 'charact':5 'compos':17 'emo...\n",
      "283      861                 Suit Walls  A Touching Panorama of a Lumberjack And a Fris...          2006            1                3         4.99     111             12.99      R  2013-05-26 14:50:58.951                                     {Commentaries}  'australia':18 'build':14 'dog':16 'frisbe':11...\n",
      "284      865             Sunrise League  A Beautiful Epistle of a Madman And a Butler w...          2006            1                3         4.99     135             19.99  PG-13  2013-05-26 14:50:58.951                              {\"Behind the Scenes\"}  'beauti':4 'butler':11 'crocodil':16 'epistl':...\n",
      "285      867              Super Wyoming  A Action-Packed Saga of a Pastry Chef And a Ex...          2006            1                5         4.99      58             10.99     PG  2013-05-26 14:50:58.951        {Trailers,Commentaries,\"Behind the Scenes\"}  'action':5 'action-pack':4 'chef':11 'discov':...\n",
      "286      871             Sweden Shining  A Taut Documentary of a Car And a Robot who mu...          2006            1                6         4.99     176             19.99     PG  2013-05-26 14:50:58.951             {\"Deleted Scenes\",\"Behind the Scenes\"}  'boy':16 'canadian':19 'car':8 'conquer':14 'd...\n",
      "287      878                Teen Apollo  A Awe-Inspiring Drama of a Dog And a Man who m...          2006            1                3         4.99      74             25.99      G  2013-05-26 14:50:58.951    {Trailers,\"Deleted Scenes\",\"Behind the Scenes\"}  'apollo':2 'awe':5 'awe-inspir':4 'dog':10 'dr...\n",
      "288      879           Telegraph Voyage  A Fateful Yarn of a Husband And a Dog who must...          2006            1                3         4.99     148             20.99     PG  2013-05-26 14:50:58.951                                     {Commentaries}  'battl':14 'boat':20 'dog':11 'fate':4 'husban...\n",
      "289      881          Temple Attraction  A Action-Packed Saga of a Forensic Psychologis...          2006            1                5         4.99      71             13.99     PG  2013-05-26 14:50:58.951                    {Commentaries,\"Deleted Scenes\"}  'action':5 'action-pack':4 'attract':2 'battl'...\n",
      "290      883               Tequila Past  A Action-Packed Panorama of a Mad Scientist An...          2006            1                6         4.99      53             17.99     PG  2013-05-26 14:50:58.951                 {Commentaries,\"Behind the Scenes\"}  'action':5 'action-pack':4 'challeng':17 'mad'...\n",
      "291      884            Terminator Club  A Touching Story of a Crocodile And a Girl who...          2006            1                5         4.99      88             11.99      R  2013-05-26 14:50:58.951    {Trailers,\"Deleted Scenes\",\"Behind the Scenes\"}  'club':2 'crocodil':8 'girl':11 'gulf':19 'man...\n",
      "292      887              Thief Pelican  A Touching Documentary of a Madman And a Mad S...          2006            1                5         4.99     135             28.99  PG-13  2013-05-26 14:50:58.951             {\"Deleted Scenes\",\"Behind the Scenes\"}  'abandon':20 'documentari':5 'feminist':17 'ma...\n",
      "293      888             Thin Sagebrush  A Emotional Drama of a Husband And a Lumberjac...          2006            1                5         4.99      53              9.99  PG-13  2013-05-26 14:50:58.951                              {\"Behind the Scenes\"}  'ancient':18 'build':14 'cat':16 'drama':5 'em...\n",
      "294      889                Ties Hunger  A Insightful Saga of a Astronaut And a Explore...          2006            1                3         4.99     111             28.99      R  2013-05-26 14:50:58.951                                 {\"Deleted Scenes\"}  'astronaut':8 'boat':22 'explor':11 'hunger':2...\n",
      "295      892           Titanic Boondock  A Brilliant Reflection of a Feminist And a Dog...          2006            1                3         4.99     104             18.99      R  2013-05-26 14:50:58.951  {Trailers,Commentaries,\"Deleted Scenes\",\"Behin...  'baloon':19 'boondock':2 'boy':16 'brilliant':...\n",
      "296      893                Titans Jerk  A Unbelieveable Panorama of a Feminist And a S...          2006            1                4         4.99      91             11.99     PG  2013-05-26 14:50:58.951                              {\"Behind the Scenes\"}  'ancient':20 'challeng':15 'china':21 'feminis...\n",
      "297      897               Torque Bound  A Emotional Display of a Crocodile And a Husba...          2006            1                3         4.99     179             27.99      G  2013-05-26 14:50:58.951                            {Trailers,Commentaries}  'ancient':18 'bound':2 'crocodil':8 'display':...\n",
      "298      898            Tourist Pelican  A Boring Story of a Butler And a Astronaut who...          2006            1                4         4.99     152             18.99  PG-13  2013-05-26 14:50:58.951                                 {\"Deleted Scenes\"}  'astronaut':11 'australia':18 'bore':4 'butler...\n",
      "299      902          Trading Pinocchio  A Emotional Character Study of a Student And a...          2006            1                6         4.99     170             22.99     PG  2013-05-26 14:50:58.951    {Trailers,\"Deleted Scenes\",\"Behind the Scenes\"}  'charact':5 'discov':15 'emot':4 'explor':12 '...\n",
      "300      903             Traffic Hobbit  A Amazing Epistle of a Squirrel And a Lumberja...          2006            1                5         4.99     139             13.99      G  2013-05-26 14:50:58.951                            {Trailers,Commentaries}  'administr':17 'amaz':4 'boat':22 'databas':16...\n",
      "301      904                Train Bunch  A Thrilling Character Study of a Robot And a S...          2006            1                3         4.99      71             26.99      R  2013-05-26 14:50:58.951                        {Trailers,\"Deleted Scenes\"}  'ancient':19 'bunch':2 'charact':5 'dog':17 'f...\n",
      "302      905    Trainspotting Strangers  A Fast-Paced Drama of a Pioneer And a Mad Cow ...          2006            1                7         4.99     132             10.99  PG-13  2013-05-26 14:50:58.951                                         {Trailers}  'ancient':21 'challeng':17 'cow':14 'drama':7 ...\n",
      "303      908                  Trap Guys  A Unbelieveable Story of a Boy And a Mad Cow w...          2006            1                3         4.99     110             11.99      G  2013-05-26 14:50:58.951                 {Commentaries,\"Behind the Scenes\"}  'administr':18 'boy':8 'challeng':15 'cow':12 ...\n",
      "304      911                Trip Newton  A Fanciful Character Study of a Lumberjack And...          2006            1                7         4.99      64             14.99  PG-13  2013-05-26 14:50:58.951                    {Commentaries,\"Deleted Scenes\"}  'abandon':20 'amus':21 'car':12 'cat':17 'char...\n",
      "305      915               Truman Crazy  A Thrilling Epistle of a Moose And a Boy who m...          2006            1                7         4.99      92              9.99      G  2013-05-26 14:50:58.951                            {Trailers,Commentaries}  'administr':17 'boy':11 'crazi':2 'databas':16...\n",
      "306      918            Twisted Pirates  A Touching Display of a Frisbee And a Boat who...          2006            1                4         4.99     152             23.99     PG  2013-05-26 14:50:58.951           {Trailers,Commentaries,\"Deleted Scenes\"}  'boat':11 'convent':20 'display':5 'frisbe':8 ...\n",
      "307      919           Tycoon Gathering  A Emotional Display of a Husband And a A Shark...          2006            1                3         4.99      82             17.99      G  2013-05-26 14:50:58.951           {Trailers,Commentaries,\"Deleted Scenes\"}  'display':5 'emot':4 'gather':2 'husband':8 'm...\n",
      "308      922      Undefeated Dalmations  A Unbelieveable Display of a Crocodile And a F...          2006            1                7         4.99     107             22.99  PG-13  2013-05-26 14:50:58.951                                     {Commentaries}  'abandon':19 'amus':20 'crocodil':8 'dalmat':2...\n",
      "309      929         Usual Untouchables  A Touching Display of a Explorer And a Lumberj...          2006            1                5         4.99     128             21.99  PG-13  2013-05-26 14:50:58.951        {Trailers,Commentaries,\"Behind the Scenes\"}  'display':5 'explor':8 'fight':14 'forens':16 ...\n",
      "310      933              Vampire Whale  A Epic Story of a Lumberjack And a Monkey who ...          2006            1                4         4.99     126             11.99  NC-17  2013-05-26 14:50:58.951                            {Trailers,Commentaries}  'confront':14 'convent':20 'epic':4 'lumberjac...\n",
      "311      934                Vanilla Day  A Fast-Paced Saga of a Girl And a Forensic Psy...          2006            1                7         4.99     122             20.99  NC-17  2013-05-26 14:50:58.951             {\"Deleted Scenes\",\"Behind the Scenes\"}  'day':2 'fast':5 'fast-pac':4 'forens':13 'gir...\n",
      "312      938          Velvet Terminator  A Lacklusture Tale of a Pastry Chef And a Tech...          2006            1                3         4.99     173             14.99      R  2013-05-26 14:50:58.951                              {\"Behind the Scenes\"}  'abandon':21 'amus':22 'chef':9 'confront':16 ...\n",
      "313      941          Videotape Arsenic  A Lacklusture Display of a Girl And a Astronau...          2006            1                4         4.99     145             10.99  NC-17  2013-05-26 14:50:58.951  {Commentaries,\"Deleted Scenes\",\"Behind the Sce...  'arsenic':2 'astronaut':11 'australia':18 'dis...\n",
      "314      943          Villain Desperate  A Boring Yarn of a Pioneer And a Feminist who ...          2006            1                4         4.99      76             27.99  PG-13  2013-05-26 14:50:58.951                            {Trailers,Commentaries}  'abandon':19 'amus':20 'bore':4 'cat':16 'desp...\n",
      "315      944               Virgin Daisy  A Awe-Inspiring Documentary of a Robot And a M...          2006            1                6         4.99     179             29.99  PG-13  2013-05-26 14:50:58.951                     {Trailers,\"Behind the Scenes\"}  'administr':20 'awe':5 'awe-inspir':4 'daisi':...\n",
      "316      946           Virtual Spoilers  A Fateful Tale of a Database Administrator And...          2006            1                3         4.99     144             14.99  NC-17  2013-05-26 14:50:58.951                    {Commentaries,\"Deleted Scenes\"}  'administr':9 'databas':8 'discov':15 'fate':4...\n",
      "317      950               Volume House  A Boring Tale of a Dog And a Woman who must Me...          2006            1                7         4.99     132             12.99     PG  2013-05-26 14:50:58.951                                     {Commentaries}  'bore':4 'california':18 'dentist':16 'dog':8 ...\n",
      "318      954                  Wake Jaws  A Beautiful Saga of a Feminist And a Composer ...          2006            1                7         4.99      73             18.99      G  2013-05-26 14:50:58.951  {Trailers,Commentaries,\"Deleted Scenes\",\"Behin...  'beauti':4 'berlin':18 'challeng':14 'compos':...\n",
      "319      955               Walls Artist  A Insightful Panorama of a Teacher And a Teach...          2006            1                7         4.99     135             19.99     PG  2013-05-26 14:50:58.951                     {Trailers,\"Behind the Scenes\"}  'abandon':20 'artist':2 'cow':17 'fun':21 'hou...\n",
      "320      956              Wanda Chamber  A Insightful Drama of a A Shark And a Pioneer ...          2006            1                7         4.99     107             23.99  PG-13  2013-05-26 14:50:58.951  {Commentaries,\"Deleted Scenes\",\"Behind the Sce...  'chamber':2 'drama':5 'find':15 'insight':4 'm...\n",
      "321      957                War Notting  A Boring Drama of a Teacher And a Sumo Wrestle...          2006            1                7         4.99      80             26.99      G  2013-05-26 14:50:58.951             {\"Deleted Scenes\",\"Behind the Scenes\"}  'agent':18 'bore':4 'canadian':21 'challeng':1...\n",
      "322      961              Wash Heavenly  A Awe-Inspiring Reflection of a Cat And a Pion...          2006            1                7         4.99     161             22.99      R  2013-05-26 14:50:58.951                                     {Commentaries}  'ancient':20 'awe':5 'awe-inspir':4 'cat':10 '...\n",
      "323      964     Waterfront Deliverance  A Unbelieveable Documentary of a Dentist And a...          2006            1                4         4.99      61             17.99      G  2013-05-26 14:50:58.951                              {\"Behind the Scenes\"}  'build':15 'deliver':2 'dentist':8 'documentar...\n",
      "324      968              Werewolf Lola  A Fanciful Story of a Man And a Sumo Wrestler ...          2006            1                6         4.99      79             19.99      G  2013-05-26 14:50:58.951                     {Trailers,\"Behind the Scenes\"}  'fanci':4 'lola':2 'man':8 'monasteri':20 'mus...\n",
      "325      969                  West Lion  A Intrepid Drama of a Butler And a Lumberjack ...          2006            1                4         4.99     159             29.99      G  2013-05-26 14:50:58.951                                         {Trailers}  'administr':17 'butler':8 'challeng':14 'datab...\n",
      "326      971               Whale Bikini  A Intrepid Story of a Pastry Chef And a Databa...          2006            1                4         4.99     109             11.99  PG-13  2013-05-26 14:50:58.951  {Commentaries,\"Deleted Scenes\",\"Behind the Sce...  'administr':13 'bikini':2 'chef':9 'convent':2...\n",
      "327      972            Whisperer Giant  A Intrepid Story of a Dentist And a Hunter who...          2006            1                4         4.99      59             24.99  PG-13  2013-05-26 14:50:58.951                        {Trailers,\"Deleted Scenes\"}  'ancient':18 'confront':14 'dentist':8 'giant'...\n",
      "328      973                  Wife Turn  A Awe-Inspiring Epistle of a Teacher And a Fem...          2006            1                3         4.99     183             27.99  NC-17  2013-05-26 14:50:58.951             {\"Deleted Scenes\",\"Behind the Scenes\"}  'ancient':20 'awe':5 'awe-inspir':4 'confront'...\n",
      "329      979              Witches Panic  A Awe-Inspiring Drama of a Secret Agent And a ...          2006            1                6         4.99     100             10.99  NC-17  2013-05-26 14:50:58.951                 {Commentaries,\"Behind the Scenes\"}  'agent':11 'awe':5 'awe-inspir':4 'drama':7 'f...\n",
      "330      980         Wizard Coldblooded  A Lacklusture Display of a Robot And a Girl wh...          2006            1                4         4.99      75             12.99     PG  2013-05-26 14:50:58.951  {Commentaries,\"Deleted Scenes\",\"Behind the Sce...  'coldblood':2 'convent':21 'defeat':14 'displa...\n",
      "331      985       Wonderland Christmas  A Awe-Inspiring Character Study of a Waitress ...          2006            1                4         4.99     111             19.99     PG  2013-05-26 14:50:58.951                                     {Commentaries}  'awe':5 'awe-inspir':4 'car':14 'charact':7 'c...\n",
      "332      989        Working Microcosmos  A Stunning Epistle of a Dentist And a Dog who ...          2006            1                4         4.99      74             22.99      R  2013-05-26 14:50:58.951                    {Commentaries,\"Deleted Scenes\"}  'ancient':18 'china':19 'dentist':8 'dog':11 '...\n",
      "333      994              Wyoming Storm  A Awe-Inspiring Panorama of a Robot And a Boat...          2006            1                6         4.99     100             29.99  PG-13  2013-05-26 14:50:58.951                                 {\"Deleted Scenes\"}  'awe':5 'awe-inspir':4 'boat':13,23 'feminist'...\n",
      "334      995                Yentl Idaho  A Amazing Display of a Robot And a Astronaut w...          2006            1                5         4.99      86             11.99      R  2013-05-26 14:50:58.951           {Trailers,Commentaries,\"Deleted Scenes\"}  'amaz':4 'astronaut':11 'berlin':18 'display':...\n",
      "335     1000                  Zorro Ark  A Intrepid Panorama of a Mad Scientist And a B...          2006            1                3         4.99      50             18.99  NC-17  2013-05-26 14:50:58.951        {Trailers,Commentaries,\"Behind the Scenes\"}  'ark':2 'boy':12,17 'intrepid':4 'mad':8 'mona...\n"
     ]
    }
   ],
   "source": [
    "# Consulta\n",
    "query = \"\\\n",
    "    SELECT * FROM film\\\n",
    "    WHERE rental_rate > 4;\\\n",
    "    \"\n",
    "# DataFrame desde consulta\n",
    "results_df = pd.read_sql_query(\n",
    "    query,\n",
    "    conn\n",
    ")\n",
    "# Impresión\n",
    "print(results_df)"
   ]
  },
  {
   "cell_type": "code",
   "execution_count": 28,
   "id": "e4242d7a",
   "metadata": {},
   "outputs": [
    {
     "name": "stdout",
     "output_type": "stream",
     "text": [
      "   film_id                title                                        description  release_year  language_id  rental_duration  rental_rate  length  replacement_cost rating              last_update                                   special_features                                           fulltext\n",
      "0      384     Grosse Wonderful  A Epic Drama of a Cat And a Explorer who must ...          2006            1                5         4.99      49             19.99      R  2013-05-26 14:50:58.951                              {\"Behind the Scenes\"}  'australia':18 'cat':8 'drama':5 'epic':4 'exp...\n",
      "1       20  Amelie Hellfighters  A Boring Drama of a Woman And a Squirrel who m...          2006            1                4         4.99      79             23.99      R  2013-05-26 14:50:58.951  {Commentaries,\"Deleted Scenes\",\"Behind the Sce...  'ameli':1 'baloon':19 'bore':4 'conquer':14 'd...\n",
      "2       60      Beast Hunchback  A Awe-Inspiring Epistle of a Student And a Squ...          2006            1                3         4.99      89             22.99      R  2013-05-26 14:50:58.951             {\"Deleted Scenes\",\"Behind the Scenes\"}  'ancient':20 'awe':5 'awe-inspir':4 'beast':1 ...\n",
      "3      100      Brooklyn Desert  A Beautiful Drama of a Dentist And a Composer ...          2006            1                7         4.99     161             21.99      R  2013-05-26 14:50:58.951                                     {Commentaries}  'battl':14 'beauti':4 'brooklyn':1 'compos':11...\n",
      "4      102        Bubble Grosse  A Awe-Inspiring Panorama of a Crocodile And a ...          2006            1                4         4.99      60             20.99      R  2013-05-26 14:50:58.951  {Trailers,Commentaries,\"Deleted Scenes\",\"Behin...  'awe':5 'awe-inspir':4 'baloon':21 'bubbl':1 '...\n",
      "5      177    Connecticut Tramp  A Unbelieveable Drama of a Crocodile And a Mad...          2006            1                4         4.99     172             20.99      R  2013-05-26 14:50:58.951                    {Commentaries,\"Deleted Scenes\"}  'connecticut':1 'cow':12 'crocodil':8 'dentist...\n",
      "6      192     Crossing Divorce  A Beautiful Documentary of a Dog And a Robot w...          2006            1                4         4.99      50             19.99      R  2013-05-26 14:50:58.951  {Commentaries,\"Deleted Scenes\",\"Behind the Sce...  'beauti':4 'berlin':18 'cross':1 'divorc':2 'd...\n",
      "7      222      Desert Poseidon  A Brilliant Documentary of a Butler And a Fris...          2006            1                4         4.99      64             27.99      R  2013-05-26 14:50:58.951                     {Trailers,\"Behind the Scenes\"}  'astronaut':16 'brilliant':4 'build':14 'butle...\n",
      "8      256      Drop Waterfront  A Fanciful Documentary of a Husband And a Expl...          2006            1                6         4.99     178             20.99      R  2013-05-26 14:50:58.951                            {Trailers,Commentaries}  'ancient':18 'china':19 'documentari':5 'drop'...\n",
      "9      310         Fever Empire  A Insightful Panorama of a Cat And a Boat who ...          2006            1                5         4.99     158             20.99      R  2013-05-26 14:50:58.951                    {Commentaries,\"Deleted Scenes\"}  'boat':11,16 'cat':8 'defeat':14 'empir':2 'fe...\n"
     ]
    }
   ],
   "source": [
    "# Consulta\n",
    "query = \"\\\n",
    "    SELECT *\\\n",
    "    FROM film\\\n",
    "    WHERE rental_rate > 4\\\n",
    "        AND replacement_cost >= 19.99\\\n",
    "        AND rating = 'R';\\\n",
    "    \"\n",
    "# DataFrame desde consulta\n",
    "results_df = pd.read_sql_query(\n",
    "    query,\n",
    "    conn\n",
    ")\n",
    "# Impresión\n",
    "print(results_df.head(10))"
   ]
  },
  {
   "cell_type": "code",
   "execution_count": 29,
   "id": "f856269a",
   "metadata": {},
   "outputs": [
    {
     "name": "stdout",
     "output_type": "stream",
     "text": [
      "                    title\n",
      "0        Grosse Wonderful\n",
      "1     Amelie Hellfighters\n",
      "2         Beast Hunchback\n",
      "3         Brooklyn Desert\n",
      "4           Bubble Grosse\n",
      "5       Connecticut Tramp\n",
      "6        Crossing Divorce\n",
      "7         Desert Poseidon\n",
      "8         Drop Waterfront\n",
      "9            Fever Empire\n",
      "10           Fiddler Lost\n",
      "11            Flight Lies\n",
      "12       Fugitive Maguire\n",
      "13             Gold River\n",
      "14     Graceland Dynamite\n",
      "15         Grinch Massage\n",
      "16            Guys Falcon\n",
      "17          Head Stranger\n",
      "18       Ishtar Rocketeer\n",
      "19         Madigan Dorado\n",
      "20               Opus Ice\n",
      "21            Quills Bull\n",
      "22         Requiem Tycoon\n",
      "23            Rules Human\n",
      "24            Sense Greek\n",
      "25       Slacker Liaisons\n",
      "26     Soldiers Evolution\n",
      "27  Stagecoach Armageddon\n",
      "28     Strangers Graffiti\n",
      "29          Submarine Bed\n",
      "30            Ties Hunger\n",
      "31            Train Bunch\n",
      "32          Wash Heavenly\n",
      "33    Working Microcosmos\n"
     ]
    }
   ],
   "source": [
    "# Consulta\n",
    "query = \"\\\n",
    "    SELECT title\\\n",
    "    FROM film\\\n",
    "    WHERE rental_rate > 4\\\n",
    "        AND replacement_cost >= 19.99\\\n",
    "        AND rating = 'R';\\\n",
    "    \"\n",
    "# DataFrame desde consulta\n",
    "results_df = pd.read_sql_query(\n",
    "    query,\n",
    "    conn\n",
    ")\n",
    "# Impresión\n",
    "print(results_df)"
   ]
  },
  {
   "cell_type": "code",
   "execution_count": 30,
   "id": "90b51765",
   "metadata": {},
   "outputs": [
    {
     "name": "stdout",
     "output_type": "stream",
     "text": [
      "   COUNT(title)\n",
      "0            34\n"
     ]
    }
   ],
   "source": [
    "# Consulta\n",
    "query = \"\\\n",
    "    SELECT COUNT(title)\\\n",
    "    FROM film /* or COUNT(*) */ \\\n",
    "    WHERE rental_rate > 4\\\n",
    "        AND replacement_cost >= 19.99\\\n",
    "        AND rating = 'R';\\\n",
    "    \"\n",
    "# DataFrame desde consulta\n",
    "results_df = pd.read_sql_query(\n",
    "    query,\n",
    "    conn\n",
    ")\n",
    "# Impresión\n",
    "print(results_df)"
   ]
  },
  {
   "cell_type": "code",
   "execution_count": 31,
   "id": "21981431",
   "metadata": {},
   "outputs": [
    {
     "name": "stdout",
     "output_type": "stream",
     "text": [
      "   COUNT(*)\n",
      "0       418\n"
     ]
    }
   ],
   "source": [
    "# Consulta\n",
    "query = \"\\\n",
    "    SELECT COUNT(*)\\\n",
    "    FROM film\\\n",
    "    WHERE rating = 'R'\\\n",
    "        OR rating = 'PG-13';\\\n",
    "    \"\n",
    "# DataFrame desde consulta\n",
    "results_df = pd.read_sql_query(\n",
    "    query,\n",
    "    conn\n",
    ")\n",
    "# Impresión\n",
    "print(results_df)"
   ]
  },
  {
   "cell_type": "code",
   "execution_count": 32,
   "id": "fe5568ed",
   "metadata": {},
   "outputs": [
    {
     "name": "stdout",
     "output_type": "stream",
     "text": [
      "   film_id              title                                        description  release_year  language_id  rental_duration  rental_rate  length  replacement_cost rating              last_update                        special_features                                           fulltext\n",
      "0      133    Chamber Italian  A Fateful Reflection of a Moose And a Husband ...          2006            1                7         4.99     117             14.99  NC-17  2013-05-26 14:50:58.951                              {Trailers}  'chamber':1 'fate':4 'husband':11 'italian':2 ...\n",
      "1       98  Bright Encounters  A Fateful Yarn of a Lumberjack And a Feminist ...          2006            1                4         4.99      73             12.99  PG-13  2013-05-26 14:50:58.951                              {Trailers}  'boat':20 'bright':1 'conquer':14 'encount':2 ...\n",
      "2        1   Academy Dinosaur  A Epic Drama of a Feminist And a Mad Scientist...          2006            1                6         0.99      86             20.99     PG  2013-05-26 14:50:58.951  {\"Deleted Scenes\",\"Behind the Scenes\"}  'academi':1 'battl':15 'canadian':20 'dinosaur...\n",
      "3        2     Ace Goldfinger  A Astounding Epistle of a Database Administrat...          2006            1                3         4.99      48             12.99      G  2013-05-26 14:50:58.951             {Trailers,\"Deleted Scenes\"}  'ace':1 'administr':9 'ancient':19 'astound':4...\n",
      "4        3   Adaptation Holes  A Astounding Reflection of a Lumberjack And a ...          2006            1                7         2.99      50             18.99  NC-17  2013-05-26 14:50:58.951             {Trailers,\"Deleted Scenes\"}  'adapt':1 'astound':4 'baloon':19 'car':11 'fa...\n",
      "5        4   Affair Prejudice  A Fanciful Documentary of a Frisbee And a Lumb...          2006            1                5         2.99     117             26.99      G  2013-05-26 14:50:58.951      {Commentaries,\"Behind the Scenes\"}  'affair':1 'chase':14 'documentari':5 'fanci':...\n",
      "6        5        African Egg  A Fast-Paced Documentary of a Pastry Chef And ...          2006            1                6         2.99     130             22.99      G  2013-05-26 14:50:58.951                      {\"Deleted Scenes\"}  'african':1 'chef':11 'dentist':14 'documentar...\n",
      "7        6       Agent Truman  A Intrepid Panorama of a Robot And a Boy who m...          2006            1                3         2.99     169             17.99     PG  2013-05-26 14:50:58.951                      {\"Deleted Scenes\"}  'agent':1 'ancient':19 'boy':11 'china':20 'es...\n",
      "8        7    Airplane Sierra  A Touching Saga of a Hunter And a Butler who m...          2006            1                6         4.99      62             28.99  PG-13  2013-05-26 14:50:58.951             {Trailers,\"Deleted Scenes\"}  'airplan':1 'boat':20 'butler':11,16 'discov':...\n",
      "9        9      Alabama Devil  A Thoughtful Panorama of a Database Administra...          2006            1                3         2.99     114             21.99  PG-13  2013-05-26 14:50:58.951             {Trailers,\"Deleted Scenes\"}  'administr':9 'alabama':1 'boat':23 'databas':...\n"
     ]
    }
   ],
   "source": [
    "# Consulta\n",
    "query = \"\\\n",
    "    SELECT *\\\n",
    "    FROM film\\\n",
    "    WHERE rating != 'R';\\\n",
    "    \"\n",
    "# DataFrame desde consulta\n",
    "results_df = pd.read_sql_query(\n",
    "    query,\n",
    "    conn\n",
    ")\n",
    "# Impresión\n",
    "print(results_df.head(10))"
   ]
  },
  {
   "cell_type": "markdown",
   "id": "05604681",
   "metadata": {},
   "source": [
    "## 19. Challenge: SELECT WHERE"
   ]
  },
  {
   "cell_type": "markdown",
   "id": "375b98dd",
   "metadata": {},
   "source": [
    "1. What is the email of customer Nancy Thomas?"
   ]
  },
  {
   "cell_type": "code",
   "execution_count": 33,
   "id": "f442ea4e",
   "metadata": {},
   "outputs": [
    {
     "name": "stdout",
     "output_type": "stream",
     "text": [
      "  first_name last_name                            email\n",
      "0      Nancy    Thomas  nancy.thomas@sakilacustomer.org\n"
     ]
    }
   ],
   "source": [
    "# Consulta\n",
    "query = \"\\\n",
    "    SELECT first_name, last_name, email\\\n",
    "    FROM customer\\\n",
    "    WHERE first_name = 'Nancy'\\\n",
    "        AND last_name = 'Thomas';\\\n",
    "    \"\n",
    "# DataFrame desde consulta\n",
    "results_df = pd.read_sql_query(\n",
    "    query,\n",
    "    conn\n",
    ")\n",
    "# Impresión\n",
    "print(results_df)"
   ]
  },
  {
   "cell_type": "markdown",
   "id": "4b09b87b",
   "metadata": {},
   "source": [
    "2. What is the description of the movie Outlaw Hanky?"
   ]
  },
  {
   "cell_type": "code",
   "execution_count": 34,
   "id": "3c3b9364",
   "metadata": {},
   "outputs": [
    {
     "name": "stdout",
     "output_type": "stream",
     "text": [
      "          title                                        description\n",
      "0  Outlaw Hanky  A Thoughtful Story of a Astronaut And a Compos...\n"
     ]
    }
   ],
   "source": [
    "# Consulta\n",
    "query = \"\\\n",
    "    SELECT title, description\\\n",
    "    FROM film\\\n",
    "    WHERE title = 'Outlaw Hanky';\\\n",
    "    \"\n",
    "# DataFrame desde consulta\n",
    "results_df = pd.read_sql_query(\n",
    "    query,\n",
    "    conn\n",
    ")\n",
    "# Impresión\n",
    "print(results_df)"
   ]
  },
  {
   "cell_type": "markdown",
   "id": "98d1ac06",
   "metadata": {},
   "source": [
    "3. Get the phone number for the address 259 Ipoh Drive."
   ]
  },
  {
   "cell_type": "code",
   "execution_count": 35,
   "id": "f6beeeb6",
   "metadata": {},
   "outputs": [
    {
     "name": "stdout",
     "output_type": "stream",
     "text": [
      "          phone\n",
      "0  4.190099e+11\n"
     ]
    }
   ],
   "source": [
    "# Consulta\n",
    "query = \"\\\n",
    "    SELECT phone\\\n",
    "    FROM address\\\n",
    "    WHERE address = '259 Ipoh Drive';\\\n",
    "    \"\n",
    "# DataFrame desde consulta\n",
    "results_df = pd.read_sql_query(\n",
    "    query,\n",
    "    conn\n",
    ")\n",
    "# Impresión\n",
    "print(results_df)"
   ]
  }
 ],
 "metadata": {
  "kernelspec": {
   "display_name": "Python 3 (ipykernel)",
   "language": "python",
   "name": "python3"
  },
  "language_info": {
   "codemirror_mode": {
    "name": "ipython",
    "version": 3
   },
   "file_extension": ".py",
   "mimetype": "text/x-python",
   "name": "python",
   "nbconvert_exporter": "python",
   "pygments_lexer": "ipython3",
   "version": "3.11.5"
  }
 },
 "nbformat": 4,
 "nbformat_minor": 5
}
