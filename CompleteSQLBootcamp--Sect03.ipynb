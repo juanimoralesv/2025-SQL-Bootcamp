{
 "cells": [
  {
   "cell_type": "markdown",
   "id": "b83c29de",
   "metadata": {},
   "source": [
    "# S3 - ???"
   ]
  },
  {
   "cell_type": "code",
   "execution_count": 1,
   "id": "ce8acdc7",
   "metadata": {},
   "outputs": [],
   "source": [
    "# Bibliotecas\n",
    "import os\n",
    "import sqlite3 as sql\n",
    "import pandas as pd"
   ]
  },
  {
   "cell_type": "code",
   "execution_count": 2,
   "id": "cde3253e",
   "metadata": {},
   "outputs": [],
   "source": [
    "# Cambio de directorio\n",
    "os.chdir('G:\\\\15_Estudio\\\\07 - Udemy\\\\SQL - Portilla Complete Bootcamp')"
   ]
  },
  {
   "cell_type": "code",
   "execution_count": 3,
   "id": "635c4c65",
   "metadata": {},
   "outputs": [],
   "source": [
    "with open('UDM-SQL-BTCMP--003.sql', 'r') as file:\n",
    "    query_log = file.read()\n",
    "    \n",
    "query_log = query_log.replace(' */', '')\n",
    "query_log_lines = query_log.split('\\n')"
   ]
  },
  {
   "cell_type": "code",
   "execution_count": 4,
   "id": "69b8df41",
   "metadata": {},
   "outputs": [],
   "source": [
    "for i, line in enumerate(query_log_lines):\n",
    "    query_log_lines[i] = line.strip()\n",
    "    if line[:2] == '/*':\n",
    "        query_log_lines[i] = line.replace('/*', '##')\n",
    "    elif line != '':\n",
    "        query_log_lines[i] = '\\t' + line + ' \\\\'\n",
    "    else:\n",
    "        pass"
   ]
  },
  {
   "cell_type": "code",
   "execution_count": 5,
   "id": "7b1edbf2",
   "metadata": {},
   "outputs": [
    {
     "name": "stdout",
     "output_type": "stream",
     "text": [
      "## 26. General Challenge 1\n",
      "## 1. How many transactions were greater than USD 5.00?\n",
      "\tSELECT COUNT(*) \\\n",
      "\tFROM payment \\\n",
      "\tWHERE amount > 5.00; \\\n",
      "\n",
      "\n",
      "## 2. How many actors have a first name that starts with a letter P?\n",
      "## I'm assuming case-sensitive.\n",
      "\tSELECT COUNT(*) \\\n",
      "\tFROM actor \\\n",
      "\tWHERE first_name LIKE 'P%'; \\\n",
      "\n",
      "\n",
      "## 3. How many unique districts are our customers from?\n",
      "\tSELECT COUNT(DISTINCT district) \\\n",
      "\tFROM address; \\\n",
      "\n",
      "\n",
      "## 4. The names of those distinct districts\n",
      "\tSELECT DISTINCT district \\\n",
      "\tFROM address; \\\n",
      "\n",
      "\n",
      "## 5. How many films have a rating of R and a\n",
      "## replacement cost between USD 5 and USD 15?\n",
      "\tSELECT COUNT(*) \\\n",
      "\tFROM film \\\n",
      "\tWHERE rating = 'R' \\\n",
      "\t\tAND replacement_cost BETWEEN 5 AND 15; \\\n",
      "\n",
      "\n",
      "## 6. How many films have the word Truman somewhere in title?\n",
      "## I assume case-insensitive\n",
      "\tSELECT COUNT(*) \\\n",
      "\tFROM film \\\n",
      "\tWHERE title ILIKE '%Truman%'; \\\n",
      "\n",
      "## Bonus by me\n",
      "\tSELECT title \\\n",
      "\tFROM film \\\n",
      "\tWHERE title ILIKE '%Truman%'; \\\n",
      "\n",
      "\n",
      "## 27. Introduction to GROUP BY\n",
      "## Blank/Notes\n",
      "\n",
      "\n",
      "## 28. Aggregation functions\n",
      "\tSELECT * \\\n",
      "\tFROM film \\\n",
      "\tLIMIT 1; \\\n",
      "\n",
      "## Minimum film replacement cost*/\n",
      "\tSELECT MIN(replacement_cost) \\\n",
      "\tFROM film; \\\n",
      "\n",
      "## Maximum film replacement cost*/\n",
      "\tSELECT MAX(replacement_cost) \\\n",
      "\tFROM film; \\\n",
      "\n",
      "## Multiple agg functions can be called together, but not a full column\n",
      "\tSELECT MIN(replacement_cost), MAX(replacement_cost), ROUND(AVG(replacement_cost), 4) \\\n",
      "\tFROM film; \\\n",
      "\n",
      "## Another little twist\n",
      "\tSELECT  \\\n",
      "\t\tMIN(replacement_cost) AS Minimum, \\\n",
      "\t\tMAX(replacement_cost) AS Maximum, \\\n",
      "\t\tROUND(AVG(replacement_cost), 4) AS Average \\\n",
      "\tFROM film; \\\n",
      "\n",
      "## Replacement cost of the entire store\n",
      "\tSELECT SUM(replacement_cost) \\\n",
      "\tFROM film; \\\n",
      "\n",
      "\n",
      "## 29. GROUP BY pt. 1\n",
      "## Blank/Notes\n"
     ]
    }
   ],
   "source": [
    "for line in query_log_lines:\n",
    "    print(line)"
   ]
  },
  {
   "cell_type": "code",
   "execution_count": 6,
   "id": "4e2311bd",
   "metadata": {},
   "outputs": [],
   "source": [
    "# Limit removal for showing pandas.DataFrames' columns\n",
    "pd.set_option('display.max_columns', None)\n",
    "# Limit removal for showing pandas.DataFrames' rows\n",
    "pd.set_option('display.max_rows', None)\n",
    "# Modification of console with for displaying\n",
    "pd.set_option('display.width', 8000)"
   ]
  },
  {
   "cell_type": "code",
   "execution_count": 7,
   "id": "7d425f7f",
   "metadata": {},
   "outputs": [],
   "source": [
    "# Conexión y cursor\n",
    "conn = sql.connect('G:\\\\15_Estudio\\\\07 - Udemy\\\\SQL - Portilla Complete Bootcamp\\\\dvdrental.db')\n",
    "cur = conn.cursor()"
   ]
  },
  {
   "cell_type": "markdown",
   "id": "5faccb72",
   "metadata": {},
   "source": [
    "## 26. General Challenge 1"
   ]
  },
  {
   "cell_type": "markdown",
   "id": "6234e361",
   "metadata": {},
   "source": [
    "### 1. How many transactions were greater than USD 5.00?"
   ]
  },
  {
   "cell_type": "code",
   "execution_count": 8,
   "id": "91f3b013",
   "metadata": {},
   "outputs": [
    {
     "name": "stdout",
     "output_type": "stream",
     "text": [
      "   COUNT(*)\n",
      "0      3618\n"
     ]
    }
   ],
   "source": [
    "# Consulta\n",
    "query = \"\\\n",
    "\tSELECT COUNT(*) \\\n",
    "\tFROM payment \\\n",
    "\tWHERE amount > 5.00; \\\n",
    "    \"\n",
    "# DataFrame desde consulta\n",
    "results_df = pd.read_sql_query(\n",
    "    query,\n",
    "    conn\n",
    ")\n",
    "# Impresión\n",
    "print(results_df)"
   ]
  },
  {
   "cell_type": "markdown",
   "id": "4e2aea0b",
   "metadata": {},
   "source": [
    "### 2. How many actors have a first name that starts with a letter P?"
   ]
  },
  {
   "cell_type": "code",
   "execution_count": 9,
   "id": "6433df3a",
   "metadata": {},
   "outputs": [
    {
     "name": "stdout",
     "output_type": "stream",
     "text": [
      "   COUNT(*)\n",
      "0         5\n"
     ]
    }
   ],
   "source": [
    "# I'm assuming case-sensitive.\n",
    "# Consulta\n",
    "query = \"\\\n",
    "\tSELECT COUNT(*) \\\n",
    "\tFROM actor \\\n",
    "\tWHERE first_name LIKE 'P%'; \\\n",
    "    \"\n",
    "# DataFrame desde consulta\n",
    "results_df = pd.read_sql_query(\n",
    "    query,\n",
    "    conn\n",
    ")\n",
    "# Impresión\n",
    "print(results_df)"
   ]
  },
  {
   "cell_type": "markdown",
   "id": "c879dae4",
   "metadata": {},
   "source": [
    "### 3. How many unique districts are our customers from?"
   ]
  },
  {
   "cell_type": "code",
   "execution_count": 10,
   "id": "1cd89565",
   "metadata": {},
   "outputs": [
    {
     "name": "stdout",
     "output_type": "stream",
     "text": [
      "   COUNT(DISTINCT district)\n",
      "0                       377\n"
     ]
    }
   ],
   "source": [
    "# Consulta\n",
    "query = \"\\\n",
    "\tSELECT COUNT(DISTINCT district) \\\n",
    "\tFROM address; \\\n",
    "    \"\n",
    "# DataFrame desde consulta\n",
    "results_df = pd.read_sql_query(\n",
    "    query,\n",
    "    conn\n",
    ")\n",
    "# Impresión\n",
    "print(results_df)"
   ]
  },
  {
   "cell_type": "markdown",
   "id": "f6db8d84",
   "metadata": {},
   "source": [
    "### 4. The names of those distinct districts"
   ]
  },
  {
   "cell_type": "code",
   "execution_count": 11,
   "id": "90a066a8",
   "metadata": {},
   "outputs": [
    {
     "name": "stdout",
     "output_type": "stream",
     "text": [
      "         district\n",
      "0         Alberta\n",
      "1             QLD\n",
      "2        Nagasaki\n",
      "3      California\n",
      "4          Attika\n",
      "5        Mandalay\n",
      "6          Nantou\n",
      "7           Texas\n",
      "8  Central Serbia\n",
      "9        Hamilton\n"
     ]
    }
   ],
   "source": [
    "# Consulta\n",
    "query = \"\\\n",
    "\tSELECT DISTINCT district \\\n",
    "\tFROM address; \\\n",
    "    \"\n",
    "# DataFrame desde consulta\n",
    "results_df = pd.read_sql_query(\n",
    "    query,\n",
    "    conn\n",
    ")\n",
    "# Impresión\n",
    "print(results_df.head(10))"
   ]
  },
  {
   "cell_type": "markdown",
   "id": "e8217164",
   "metadata": {},
   "source": [
    "### 5. How many films have a rating of R and a replacement cost between USD 5 and USD 15?"
   ]
  },
  {
   "cell_type": "code",
   "execution_count": 12,
   "id": "06befc93",
   "metadata": {},
   "outputs": [
    {
     "name": "stdout",
     "output_type": "stream",
     "text": [
      "   COUNT(*)\n",
      "0        52\n"
     ]
    }
   ],
   "source": [
    "# Consulta\n",
    "query = \"\\\n",
    "\tSELECT COUNT(*) \\\n",
    "\tFROM film \\\n",
    "\tWHERE rating = 'R' \\\n",
    "\t\tAND replacement_cost BETWEEN 5 AND 15; \\\n",
    "    \"\n",
    "# DataFrame desde consulta\n",
    "results_df = pd.read_sql_query(\n",
    "    query,\n",
    "    conn\n",
    ")\n",
    "# Impresión\n",
    "print(results_df)"
   ]
  },
  {
   "cell_type": "markdown",
   "id": "bacebca4",
   "metadata": {},
   "source": [
    "### 6. How many films have the word Truman somewhere in title?"
   ]
  },
  {
   "cell_type": "code",
   "execution_count": 13,
   "id": "a25f9210",
   "metadata": {},
   "outputs": [
    {
     "name": "stdout",
     "output_type": "stream",
     "text": [
      "   COUNT(*)\n",
      "0         5\n"
     ]
    }
   ],
   "source": [
    "# I assume case-insensitive\n",
    "# Consulta\n",
    "query = \"\\\n",
    "\tSELECT COUNT(*) \\\n",
    "\tFROM film \\\n",
    "/*\tWHERE title ILIKE '%Truman%'; */ \\\n",
    "    WHERE LOWER(title) LIKE '%truman%'; \\\n",
    "    \"\n",
    "# NOTAR que la tercera línea de la consulta usa el operador ILIKE\n",
    "# que es válido en PostgreSQL, pero no en SQLite, por lo que se adapta\n",
    "# mediante el uso de LOWER() y una t en lugar de una T.\n",
    "\n",
    "# DataFrame desde consulta\n",
    "results_df = pd.read_sql_query(\n",
    "    query,\n",
    "    conn\n",
    ")\n",
    "# Impresión\n",
    "print(results_df)"
   ]
  },
  {
   "cell_type": "markdown",
   "id": "5b6bdf02",
   "metadata": {},
   "source": [
    "### Bonus by me"
   ]
  },
  {
   "cell_type": "code",
   "execution_count": 14,
   "id": "9f7c2c47",
   "metadata": {},
   "outputs": [
    {
     "name": "stdout",
     "output_type": "stream",
     "text": [
      "           title\n",
      "0   Agent Truman\n",
      "1   Lover Truman\n",
      "2   Minds Truman\n",
      "3  Mystic Truman\n",
      "4   Truman Crazy\n"
     ]
    }
   ],
   "source": [
    "# Consulta\n",
    "query = \"\\\n",
    "\tSELECT title \\\n",
    "\tFROM film \\\n",
    "\tWHERE LOWER(title) LIKE '%truman%'; \\\n",
    "    \"\n",
    "# Misma adaptación utilzada\n",
    "\n",
    "# DataFrame desde consulta\n",
    "results_df = pd.read_sql_query(\n",
    "    query,\n",
    "    conn\n",
    ")\n",
    "# Impresión\n",
    "print(results_df)"
   ]
  },
  {
   "cell_type": "markdown",
   "id": "344ca104",
   "metadata": {},
   "source": [
    "## 27. Introduction to GROUP BY"
   ]
  },
  {
   "cell_type": "markdown",
   "id": "b4034b6d",
   "metadata": {},
   "source": [
    "Blank/In notes"
   ]
  },
  {
   "cell_type": "markdown",
   "id": "71b86d27",
   "metadata": {},
   "source": [
    "## 28. Aggregation functions"
   ]
  },
  {
   "cell_type": "code",
   "execution_count": 15,
   "id": "78bf1952",
   "metadata": {},
   "outputs": [
    {
     "name": "stdout",
     "output_type": "stream",
     "text": [
      "   film_id            title                                        description  release_year  language_id  rental_duration  rental_rate  length  replacement_cost rating              last_update special_features                                           fulltext\n",
      "0      133  Chamber Italian  A Fateful Reflection of a Moose And a Husband ...          2006            1                7         4.99     117             14.99  NC-17  2013-05-26 14:50:58.951       {Trailers}  'chamber':1 'fate':4 'husband':11 'italian':2 ...\n"
     ]
    }
   ],
   "source": [
    "# Se explora\n",
    "\n",
    "# Consulta\n",
    "query = \"\\\n",
    "\tSELECT * \\\n",
    "\tFROM film \\\n",
    "\tLIMIT 1; \\\n",
    "    \"\n",
    "\n",
    "# DataFrame desde consulta\n",
    "results_df = pd.read_sql_query(\n",
    "    query,\n",
    "    conn\n",
    ")\n",
    "# Impresión\n",
    "print(results_df)"
   ]
  },
  {
   "cell_type": "code",
   "execution_count": 16,
   "id": "7e1737a3",
   "metadata": {},
   "outputs": [
    {
     "name": "stdout",
     "output_type": "stream",
     "text": [
      "   MIN(replacement_cost)\n",
      "0                   9.99\n"
     ]
    }
   ],
   "source": [
    "# Minimum film replacement cost\n",
    "\n",
    "# Consulta\n",
    "query = \"\\\n",
    "\tSELECT MIN(replacement_cost) \\\n",
    "\tFROM film; \\\n",
    "    \"\n",
    "# DataFrame desde consulta\n",
    "results_df = pd.read_sql_query(\n",
    "    query,\n",
    "    conn\n",
    ")\n",
    "# Impresión\n",
    "print(results_df)"
   ]
  },
  {
   "cell_type": "code",
   "execution_count": 17,
   "id": "33664302",
   "metadata": {},
   "outputs": [
    {
     "name": "stdout",
     "output_type": "stream",
     "text": [
      "   MAX(replacement_cost)\n",
      "0                  29.99\n"
     ]
    }
   ],
   "source": [
    "## Maximum film replacement cost\n",
    "\n",
    "# Consulta\n",
    "query = \"\\\n",
    "\tSELECT MAX(replacement_cost) \\\n",
    "\tFROM film; \\\n",
    "    \"\n",
    "# DataFrame desde consulta\n",
    "results_df = pd.read_sql_query(\n",
    "    query,\n",
    "    conn\n",
    ")\n",
    "# Impresión\n",
    "print(results_df)"
   ]
  },
  {
   "cell_type": "code",
   "execution_count": 18,
   "id": "1ff9bdb7",
   "metadata": {},
   "outputs": [
    {
     "name": "stdout",
     "output_type": "stream",
     "text": [
      "   MIN(replacement_cost)  MAX(replacement_cost)  ROUND(AVG(replacement_cost), 4)\n",
      "0                   9.99                  29.99                           19.984\n"
     ]
    }
   ],
   "source": [
    "# Multiple agg functions can be called together, but not a full column\n",
    "\n",
    "# Consulta\n",
    "query = \"\\\n",
    "\tSELECT MIN(replacement_cost), MAX(replacement_cost), ROUND(AVG(replacement_cost), 4) \\\n",
    "\tFROM film; \\\n",
    "    \"\n",
    "# DataFrame desde consulta\n",
    "results_df = pd.read_sql_query(\n",
    "    query,\n",
    "    conn\n",
    ")\n",
    "# Impresión\n",
    "print(results_df)"
   ]
  },
  {
   "cell_type": "code",
   "execution_count": 19,
   "id": "fde74232",
   "metadata": {},
   "outputs": [
    {
     "name": "stdout",
     "output_type": "stream",
     "text": [
      "   Minimum  Maximum  Average\n",
      "0     9.99    29.99   19.984\n"
     ]
    }
   ],
   "source": [
    "# Another little twist\n",
    "\n",
    "# Consulta\n",
    "query = \"\\\n",
    "\tSELECT  \\\n",
    "\t\tMIN(replacement_cost) AS Minimum, \\\n",
    "\t\tMAX(replacement_cost) AS Maximum, \\\n",
    "\t\tROUND(AVG(replacement_cost), 4) AS Average \\\n",
    "\tFROM film; \\\n",
    "    \"\n",
    "# DataFrame desde consulta\n",
    "results_df = pd.read_sql_query(\n",
    "    query,\n",
    "    conn\n",
    ")\n",
    "# Impresión\n",
    "print(results_df)"
   ]
  },
  {
   "cell_type": "code",
   "execution_count": 20,
   "id": "9e0c8d54",
   "metadata": {},
   "outputs": [
    {
     "name": "stdout",
     "output_type": "stream",
     "text": [
      "   SUM(replacement_cost)\n",
      "0                19984.0\n"
     ]
    }
   ],
   "source": [
    "# Replacement cost of the entire store\n",
    "\n",
    "# Consulta\n",
    "query = \"\\\n",
    "\tSELECT SUM(replacement_cost) \\\n",
    "\tFROM film; \\\n",
    "    \"\n",
    "# DataFrame desde consulta\n",
    "results_df = pd.read_sql_query(\n",
    "    query,\n",
    "    conn\n",
    ")\n",
    "# Impresión\n",
    "print(results_df)"
   ]
  },
  {
   "cell_type": "markdown",
   "id": "5455a5db",
   "metadata": {},
   "source": [
    "## 29. GROUP BY pt. 1"
   ]
  },
  {
   "cell_type": "markdown",
   "id": "81b83af9",
   "metadata": {},
   "source": [
    "Blank/In notes"
   ]
  }
 ],
 "metadata": {
  "kernelspec": {
   "display_name": "Python 3 (ipykernel)",
   "language": "python",
   "name": "python3"
  },
  "language_info": {
   "codemirror_mode": {
    "name": "ipython",
    "version": 3
   },
   "file_extension": ".py",
   "mimetype": "text/x-python",
   "name": "python",
   "nbconvert_exporter": "python",
   "pygments_lexer": "ipython3",
   "version": "3.11.5"
  }
 },
 "nbformat": 4,
 "nbformat_minor": 5
}
